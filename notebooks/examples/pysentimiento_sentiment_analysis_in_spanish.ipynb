{
  "cells": [
    {
      "cell_type": "markdown",
      "metadata": {
        "id": "view-in-github",
        "colab_type": "text"
      },
      "source": [
        "<a href=\"https://colab.research.google.com/github/rvats20/pysentimiento/blob/master/notebooks/examples/pysentimiento_sentiment_analysis_in_spanish.ipynb\" target=\"_parent\"><img src=\"https://colab.research.google.com/assets/colab-badge.svg\" alt=\"Open In Colab\"/></a>"
      ]
    },
    {
      "cell_type": "markdown",
      "metadata": {
        "id": "C-5ccq7RKfIV"
      },
      "source": [
        "# pysentimiento: A multilingual toolkit for Sentiment Analysis and SocialNLP tasks\n",
        "\n",
        "En esta notebook mostramos un breve ejemplo de cómo usar [pysentimiento](https://github.com/pysentimiento/pysentimiento/), un toolkit multilingual para extracción de opiniones y análisis de sentimientos (aunque centrado en el idioma español)\n",
        "\n",
        "`pysentimiento` es un una librería que utiliza modelos pre-entrenados de [transformers](https://github.com/huggingface/transformers) para distintas tareas de SocialNLP. Usa como modelos bases a [BETO](https://github.com/dccuchile/beto) y [RoBERTuito](https://github.com/pysentimiento/robertuito) en Español, BERTweet en inglés, y otros modelos similares en italiano y portugués.\n",
        "\n",
        "--\n",
        "\n",
        "In this notebook we show a brief example of how to use [pysentimiento](https://github.com/pysentimiento/pysentimiento/), a multilingual toolkit for opinion mining and sentiment analysis.\n",
        "\n",
        "`pysentimiento` is a library that uses pre-trained models of [transformers] (https://github.com/huggingface/transformers) for different SocialNLP tasks. It uses as base models [BETO] (https://github.com/dccuchile/beto) and [RoBERTuito] (https://github.com/pysentimiento/robertuito) in Spanish, BERTweet in English, and similar models in Italian and Portuguese.\n",
        "\n",
        "\n",
        "First, let's install the library"
      ]
    },
    {
      "cell_type": "code",
      "execution_count": null,
      "metadata": {
        "colab": {
          "base_uri": "https://localhost:8080/"
        },
        "id": "KVnFbpovDEa6",
        "outputId": "c7f7190b-314a-4c0c-f6af-f802eed4afb9"
      },
      "outputs": [
        {
          "name": "stdout",
          "output_type": "stream",
          "text": [
            "Requirement already satisfied: pysentimiento in /users/jmperez/projects/pysentimiento/.venv/lib/python3.8/site-packages (0.5.2rc4)\n",
            "Requirement already satisfied: transformers>=4.13.0 in /users/jmperez/projects/pysentimiento/.venv/lib/python3.8/site-packages (from pysentimiento) (4.26.0)\n",
            "Requirement already satisfied: torch<2.0.0,>=1.13.1 in /users/jmperez/projects/pysentimiento/.venv/lib/python3.8/site-packages (from pysentimiento) (1.13.1)\n",
            "Requirement already satisfied: datasets>=1.13.3 in /users/jmperez/projects/pysentimiento/.venv/lib/python3.8/site-packages (from pysentimiento) (2.9.0)\n",
            "Requirement already satisfied: emoji<2.0.0,>=1.6.1 in /users/jmperez/projects/pysentimiento/.venv/lib/python3.8/site-packages (from pysentimiento) (1.7.0)\n",
            "Requirement already satisfied: spacy<4.0.0,>=3.5.0 in /users/jmperez/projects/pysentimiento/.venv/lib/python3.8/site-packages (from pysentimiento) (3.5.0)\n",
            "Requirement already satisfied: xxhash in /users/jmperez/projects/pysentimiento/.venv/lib/python3.8/site-packages (from datasets>=1.13.3->pysentimiento) (3.2.0)\n",
            "Requirement already satisfied: responses<0.19 in /users/jmperez/projects/pysentimiento/.venv/lib/python3.8/site-packages (from datasets>=1.13.3->pysentimiento) (0.18.0)\n",
            "Requirement already satisfied: dill<0.3.7 in /users/jmperez/projects/pysentimiento/.venv/lib/python3.8/site-packages (from datasets>=1.13.3->pysentimiento) (0.3.6)\n",
            "Requirement already satisfied: pandas in /users/jmperez/projects/pysentimiento/.venv/lib/python3.8/site-packages (from datasets>=1.13.3->pysentimiento) (1.5.3)\n",
            "Requirement already satisfied: huggingface-hub<1.0.0,>=0.2.0 in /users/jmperez/projects/pysentimiento/.venv/lib/python3.8/site-packages (from datasets>=1.13.3->pysentimiento) (0.12.0)\n",
            "Requirement already satisfied: packaging in /users/jmperez/projects/pysentimiento/.venv/lib/python3.8/site-packages (from datasets>=1.13.3->pysentimiento) (23.0)\n",
            "Requirement already satisfied: pyyaml>=5.1 in /users/jmperez/projects/pysentimiento/.venv/lib/python3.8/site-packages (from datasets>=1.13.3->pysentimiento) (6.0)\n",
            "Requirement already satisfied: fsspec[http]>=2021.11.1 in /users/jmperez/projects/pysentimiento/.venv/lib/python3.8/site-packages (from datasets>=1.13.3->pysentimiento) (2023.1.0)\n",
            "Requirement already satisfied: numpy>=1.17 in /users/jmperez/projects/pysentimiento/.venv/lib/python3.8/site-packages (from datasets>=1.13.3->pysentimiento) (1.24.2)\n",
            "Requirement already satisfied: pyarrow>=6.0.0 in /users/jmperez/projects/pysentimiento/.venv/lib/python3.8/site-packages (from datasets>=1.13.3->pysentimiento) (11.0.0)\n",
            "Requirement already satisfied: tqdm>=4.62.1 in /users/jmperez/projects/pysentimiento/.venv/lib/python3.8/site-packages (from datasets>=1.13.3->pysentimiento) (4.64.1)\n",
            "Requirement already satisfied: multiprocess in /users/jmperez/projects/pysentimiento/.venv/lib/python3.8/site-packages (from datasets>=1.13.3->pysentimiento) (0.70.14)\n",
            "Requirement already satisfied: requests>=2.19.0 in /users/jmperez/projects/pysentimiento/.venv/lib/python3.8/site-packages (from datasets>=1.13.3->pysentimiento) (2.28.2)\n",
            "Requirement already satisfied: aiohttp in /users/jmperez/projects/pysentimiento/.venv/lib/python3.8/site-packages (from datasets>=1.13.3->pysentimiento) (3.7.4.post0)\n",
            "Requirement already satisfied: setuptools in /users/jmperez/projects/pysentimiento/.venv/lib/python3.8/site-packages (from spacy<4.0.0,>=3.5.0->pysentimiento) (67.2.0)\n",
            "Requirement already satisfied: srsly<3.0.0,>=2.4.3 in /users/jmperez/projects/pysentimiento/.venv/lib/python3.8/site-packages (from spacy<4.0.0,>=3.5.0->pysentimiento) (2.4.5)\n",
            "Requirement already satisfied: spacy-loggers<2.0.0,>=1.0.0 in /users/jmperez/projects/pysentimiento/.venv/lib/python3.8/site-packages (from spacy<4.0.0,>=3.5.0->pysentimiento) (1.0.4)\n",
            "Requirement already satisfied: preshed<3.1.0,>=3.0.2 in /users/jmperez/projects/pysentimiento/.venv/lib/python3.8/site-packages (from spacy<4.0.0,>=3.5.0->pysentimiento) (3.0.8)\n",
            "Requirement already satisfied: thinc<8.2.0,>=8.1.0 in /users/jmperez/projects/pysentimiento/.venv/lib/python3.8/site-packages (from spacy<4.0.0,>=3.5.0->pysentimiento) (8.1.7)\n",
            "Requirement already satisfied: wasabi<1.2.0,>=0.9.1 in /users/jmperez/projects/pysentimiento/.venv/lib/python3.8/site-packages (from spacy<4.0.0,>=3.5.0->pysentimiento) (1.1.1)\n",
            "Requirement already satisfied: smart-open<7.0.0,>=5.2.1 in /users/jmperez/projects/pysentimiento/.venv/lib/python3.8/site-packages (from spacy<4.0.0,>=3.5.0->pysentimiento) (6.3.0)\n",
            "Requirement already satisfied: spacy-legacy<3.1.0,>=3.0.11 in /users/jmperez/projects/pysentimiento/.venv/lib/python3.8/site-packages (from spacy<4.0.0,>=3.5.0->pysentimiento) (3.0.12)\n",
            "Requirement already satisfied: pathy>=0.10.0 in /users/jmperez/projects/pysentimiento/.venv/lib/python3.8/site-packages (from spacy<4.0.0,>=3.5.0->pysentimiento) (0.10.1)\n",
            "Requirement already satisfied: langcodes<4.0.0,>=3.2.0 in /users/jmperez/projects/pysentimiento/.venv/lib/python3.8/site-packages (from spacy<4.0.0,>=3.5.0->pysentimiento) (3.3.0)\n",
            "Requirement already satisfied: murmurhash<1.1.0,>=0.28.0 in /users/jmperez/projects/pysentimiento/.venv/lib/python3.8/site-packages (from spacy<4.0.0,>=3.5.0->pysentimiento) (1.0.9)\n",
            "Requirement already satisfied: cymem<2.1.0,>=2.0.2 in /users/jmperez/projects/pysentimiento/.venv/lib/python3.8/site-packages (from spacy<4.0.0,>=3.5.0->pysentimiento) (2.0.7)\n",
            "Requirement already satisfied: catalogue<2.1.0,>=2.0.6 in /users/jmperez/projects/pysentimiento/.venv/lib/python3.8/site-packages (from spacy<4.0.0,>=3.5.0->pysentimiento) (2.0.8)\n",
            "Requirement already satisfied: jinja2 in /users/jmperez/projects/pysentimiento/.venv/lib/python3.8/site-packages (from spacy<4.0.0,>=3.5.0->pysentimiento) (3.1.2)\n",
            "Requirement already satisfied: typer<0.8.0,>=0.3.0 in /users/jmperez/projects/pysentimiento/.venv/lib/python3.8/site-packages (from spacy<4.0.0,>=3.5.0->pysentimiento) (0.7.0)\n",
            "Requirement already satisfied: pydantic!=1.8,!=1.8.1,<1.11.0,>=1.7.4 in /users/jmperez/projects/pysentimiento/.venv/lib/python3.8/site-packages (from spacy<4.0.0,>=3.5.0->pysentimiento) (1.10.5)\n",
            "Requirement already satisfied: nvidia-cublas-cu11==11.10.3.66 in /users/jmperez/projects/pysentimiento/.venv/lib/python3.8/site-packages (from torch<2.0.0,>=1.13.1->pysentimiento) (11.10.3.66)\n",
            "Requirement already satisfied: typing-extensions in /users/jmperez/projects/pysentimiento/.venv/lib/python3.8/site-packages (from torch<2.0.0,>=1.13.1->pysentimiento) (4.4.0)\n",
            "Requirement already satisfied: nvidia-cuda-runtime-cu11==11.7.99 in /users/jmperez/projects/pysentimiento/.venv/lib/python3.8/site-packages (from torch<2.0.0,>=1.13.1->pysentimiento) (11.7.99)\n",
            "Requirement already satisfied: nvidia-cuda-nvrtc-cu11==11.7.99 in /users/jmperez/projects/pysentimiento/.venv/lib/python3.8/site-packages (from torch<2.0.0,>=1.13.1->pysentimiento) (11.7.99)\n",
            "Requirement already satisfied: nvidia-cudnn-cu11==8.5.0.96 in /users/jmperez/projects/pysentimiento/.venv/lib/python3.8/site-packages (from torch<2.0.0,>=1.13.1->pysentimiento) (8.5.0.96)\n",
            "Requirement already satisfied: wheel in /users/jmperez/projects/pysentimiento/.venv/lib/python3.8/site-packages (from nvidia-cublas-cu11==11.10.3.66->torch<2.0.0,>=1.13.1->pysentimiento) (0.38.4)\n",
            "Requirement already satisfied: regex!=2019.12.17 in /users/jmperez/projects/pysentimiento/.venv/lib/python3.8/site-packages (from transformers>=4.13.0->pysentimiento) (2022.10.31)\n",
            "Requirement already satisfied: tokenizers!=0.11.3,<0.14,>=0.11.1 in /users/jmperez/projects/pysentimiento/.venv/lib/python3.8/site-packages (from transformers>=4.13.0->pysentimiento) (0.13.2)\n",
            "Requirement already satisfied: filelock in /users/jmperez/projects/pysentimiento/.venv/lib/python3.8/site-packages (from transformers>=4.13.0->pysentimiento) (3.9.0)\n",
            "Requirement already satisfied: chardet<5.0,>=2.0 in /users/jmperez/projects/pysentimiento/.venv/lib/python3.8/site-packages (from aiohttp->datasets>=1.13.3->pysentimiento) (4.0.0)\n",
            "Requirement already satisfied: attrs>=17.3.0 in /users/jmperez/projects/pysentimiento/.venv/lib/python3.8/site-packages (from aiohttp->datasets>=1.13.3->pysentimiento) (22.2.0)\n",
            "Requirement already satisfied: yarl<2.0,>=1.0 in /users/jmperez/projects/pysentimiento/.venv/lib/python3.8/site-packages (from aiohttp->datasets>=1.13.3->pysentimiento) (1.8.2)\n",
            "Requirement already satisfied: async-timeout<4.0,>=3.0 in /users/jmperez/projects/pysentimiento/.venv/lib/python3.8/site-packages (from aiohttp->datasets>=1.13.3->pysentimiento) (3.0.1)\n",
            "Requirement already satisfied: multidict<7.0,>=4.5 in /users/jmperez/projects/pysentimiento/.venv/lib/python3.8/site-packages (from aiohttp->datasets>=1.13.3->pysentimiento) (6.0.4)\n",
            "Requirement already satisfied: certifi>=2017.4.17 in /users/jmperez/projects/pysentimiento/.venv/lib/python3.8/site-packages (from requests>=2.19.0->datasets>=1.13.3->pysentimiento) (2022.12.7)\n",
            "Requirement already satisfied: idna<4,>=2.5 in /users/jmperez/projects/pysentimiento/.venv/lib/python3.8/site-packages (from requests>=2.19.0->datasets>=1.13.3->pysentimiento) (3.4)\n",
            "Requirement already satisfied: charset-normalizer<4,>=2 in /users/jmperez/projects/pysentimiento/.venv/lib/python3.8/site-packages (from requests>=2.19.0->datasets>=1.13.3->pysentimiento) (3.0.1)\n",
            "Requirement already satisfied: urllib3<1.27,>=1.21.1 in /users/jmperez/projects/pysentimiento/.venv/lib/python3.8/site-packages (from requests>=2.19.0->datasets>=1.13.3->pysentimiento) (1.26.14)\n",
            "Requirement already satisfied: confection<1.0.0,>=0.0.1 in /users/jmperez/projects/pysentimiento/.venv/lib/python3.8/site-packages (from thinc<8.2.0,>=8.1.0->spacy<4.0.0,>=3.5.0->pysentimiento) (0.0.4)\n",
            "Requirement already satisfied: blis<0.8.0,>=0.7.8 in /users/jmperez/projects/pysentimiento/.venv/lib/python3.8/site-packages (from thinc<8.2.0,>=8.1.0->spacy<4.0.0,>=3.5.0->pysentimiento) (0.7.9)\n",
            "Requirement already satisfied: click<9.0.0,>=7.1.1 in /users/jmperez/projects/pysentimiento/.venv/lib/python3.8/site-packages (from typer<0.8.0,>=0.3.0->spacy<4.0.0,>=3.5.0->pysentimiento) (8.1.3)\n",
            "Requirement already satisfied: MarkupSafe>=2.0 in /users/jmperez/projects/pysentimiento/.venv/lib/python3.8/site-packages (from jinja2->spacy<4.0.0,>=3.5.0->pysentimiento) (2.1.2)\n",
            "Requirement already satisfied: python-dateutil>=2.8.1 in /users/jmperez/projects/pysentimiento/.venv/lib/python3.8/site-packages (from pandas->datasets>=1.13.3->pysentimiento) (2.8.2)\n",
            "Requirement already satisfied: pytz>=2020.1 in /users/jmperez/projects/pysentimiento/.venv/lib/python3.8/site-packages (from pandas->datasets>=1.13.3->pysentimiento) (2022.7.1)\n",
            "Requirement already satisfied: six>=1.5 in /users/jmperez/projects/pysentimiento/.venv/lib/python3.8/site-packages (from python-dateutil>=2.8.1->pandas->datasets>=1.13.3->pysentimiento) (1.16.0)\n",
            "\n",
            "\u001b[1m[\u001b[0m\u001b[34;49mnotice\u001b[0m\u001b[1;39;49m]\u001b[0m\u001b[39;49m A new release of pip available: \u001b[0m\u001b[31;49m22.3.1\u001b[0m\u001b[39;49m -> \u001b[0m\u001b[32;49m23.0.1\u001b[0m\n",
            "\u001b[1m[\u001b[0m\u001b[34;49mnotice\u001b[0m\u001b[1;39;49m]\u001b[0m\u001b[39;49m To update, run: \u001b[0m\u001b[32;49mpip install --upgrade pip\u001b[0m\n"
          ]
        }
      ],
      "source": [
        "!pip install pysentimiento"
      ]
    },
    {
      "cell_type": "markdown",
      "metadata": {
        "id": "Hoei-uwvLV9-"
      },
      "source": [
        "Let's create an analyzer. The `create_analyzer` receives the task and the language as parameters."
      ]
    },
    {
      "cell_type": "code",
      "execution_count": null,
      "metadata": {
        "id": "zeHz6sDuAbFz"
      },
      "outputs": [],
      "source": [
        "from pysentimiento import create_analyzer\n",
        "import transformers\n",
        "\n",
        "transformers.logging.set_verbosity(transformers.logging.ERROR)\n",
        "\n",
        "analyzer = create_analyzer(task=\"sentiment\", lang=\"es\")\n"
      ]
    },
    {
      "cell_type": "markdown",
      "metadata": {
        "id": "PVuD_60yLnYN"
      },
      "source": [
        "\n",
        "Let's check out some examples:\n",
        "\n",
        "Veamos algunos ejemplos:"
      ]
    },
    {
      "cell_type": "code",
      "execution_count": null,
      "metadata": {
        "colab": {
          "base_uri": "https://localhost:8080/"
        },
        "id": "Gq-i7iU-Lfyl",
        "outputId": "07418a53-cb1c-498c-f287-e60c8af00dc9"
      },
      "outputs": [
        {
          "data": {
            "text/plain": [
              "AnalyzerOutput(output=POS, probas={POS: 0.946, NEU: 0.037, NEG: 0.017})"
            ]
          },
          "execution_count": 3,
          "metadata": {},
          "output_type": "execute_result"
        }
      ],
      "source": [
        "analyzer.predict(\"Qué gran jugador es Messi\")"
      ]
    },
    {
      "cell_type": "code",
      "execution_count": null,
      "metadata": {
        "colab": {
          "base_uri": "https://localhost:8080/"
        },
        "id": "ktkizc1FLjXZ",
        "outputId": "39e1ff35-b573-486c-b3de-6b439cd99d40"
      },
      "outputs": [
        {
          "data": {
            "text/plain": [
              "AnalyzerOutput(output=NEG, probas={NEG: 0.887, NEU: 0.098, POS: 0.014})"
            ]
          },
          "execution_count": 4,
          "metadata": {},
          "output_type": "execute_result"
        }
      ],
      "source": [
        "analyzer.predict(\"Esto es pésimo\")"
      ]
    },
    {
      "cell_type": "code",
      "execution_count": null,
      "metadata": {
        "colab": {
          "base_uri": "https://localhost:8080/"
        },
        "id": "AWczZn9KLlod",
        "outputId": "9d445bf1-7429-4887-a3e3-c9bca9503b4c"
      },
      "outputs": [
        {
          "data": {
            "text/plain": [
              "AnalyzerOutput(output=NEU, probas={NEU: 0.548, NEG: 0.412, POS: 0.041})"
            ]
          },
          "execution_count": 5,
          "metadata": {},
          "output_type": "execute_result"
        }
      ],
      "source": [
        "analyzer.predict(\"Qué es esto?\")"
      ]
    },
    {
      "cell_type": "markdown",
      "metadata": {
        "id": "6_FztKVeZ_GB"
      },
      "source": [
        "### Predicción en batch\n",
        "\n",
        "Si tenemos un conjunto de oraciones, `pysentimiento` hace la predicción en conjunto de manera eficiente"
      ]
    },
    {
      "cell_type": "code",
      "execution_count": null,
      "metadata": {
        "colab": {
          "base_uri": "https://localhost:8080/",
          "height": 84,
          "referenced_widgets": [
            "d3098337e9ab4bc1b4893fa611a0d38a",
            "1fb6ef14e1c9408b8c9a79d322db0f8f",
            "4a7ddb68c80d4e3385eb7ce1a349d2f0",
            "d5480ca308df4dbba6837d301c2081ab",
            "378ba918adab481da4104f815ff0570e",
            "8e7805d5970240709c2a79f4aa2948b8",
            "5fcda9a4471249608fd4b379fa1decb5",
            "18d568236ccf471fa8b893299068f5f6",
            "66e5bc3ba23e40948e6326cf0b10d7e8",
            "560f8c216e9342f39dc0868bdad55c77",
            "fea2605c42664ab7bb61ac72aaae9299",
            "99e79b5e1dd34975a5936ace0b1519c2"
          ]
        },
        "id": "cNdmB5gLSBkM",
        "outputId": "a10fcbf0-d6f9-4036-d691-49d908821f03"
      },
      "outputs": [
        {
          "data": {
            "application/vnd.jupyter.widget-view+json": {
              "model_id": "99e79b5e1dd34975a5936ace0b1519c2",
              "version_major": 2,
              "version_minor": 0
            },
            "text/plain": [
              "  0%|          | 0/60 [00:00<?, ?it/s]"
            ]
          },
          "metadata": {},
          "output_type": "display_data"
        },
        {
          "name": "stdout",
          "output_type": "stream",
          "text": [
            "CPU times: user 1.17 s, sys: 13.8 ms, total: 1.19 s\n",
            "Wall time: 1.18 s\n"
          ]
        }
      ],
      "source": [
        "%%time\n",
        "from tqdm.auto import tqdm\n",
        "oraciones = [\n",
        "    \"Qué gran jugador es Messi\",\n",
        "    \"Esto es pésimo\",\n",
        "    \"No sé, cómo se llama?\",\n",
        "] * 20\n",
        "for sent in tqdm(oraciones):\n",
        "    analyzer.predict(sent)"
      ]
    },
    {
      "cell_type": "code",
      "execution_count": null,
      "metadata": {
        "colab": {
          "base_uri": "https://localhost:8080/",
          "height": 159,
          "referenced_widgets": [
            "775981712a49475da2394bfaa01d98ac",
            "e720332555e44b968c68e2ec97f76540",
            "0df8ed7666a145ac812d082482cea5d9",
            "0f3d120257bc425a9813de7956b2e552",
            "5dbef39335af4b0c92f1f0d14692ee1e",
            "ca0dbf6bac8c4152834fe97abb672609",
            "4723ac77d5eb4a5f8d85d3a53dfaafc4",
            "a82e60f8b34947a096e5bd7fec5cf3d8",
            "2651d82db0bf48838cb5f0daf341ef95",
            "4e612379375e433d97318c107b6b9cd9",
            "71a43f492c3245529d42cba9bd4733b3",
            "16e5e0827eb24aedb148b668b2e0cb6a"
          ]
        },
        "id": "VtBRRj_RaVr7",
        "outputId": "72019a66-aa4f-4731-c19c-f58aa8d6cfef"
      },
      "outputs": [
        {
          "data": {
            "application/vnd.jupyter.widget-view+json": {
              "model_id": "16e5e0827eb24aedb148b668b2e0cb6a",
              "version_major": 2,
              "version_minor": 0
            },
            "text/plain": [
              "  0%|          | 0/2 [00:00<?, ?ba/s]"
            ]
          },
          "metadata": {},
          "output_type": "display_data"
        },
        {
          "name": "stderr",
          "output_type": "stream",
          "text": [
            "The following columns in the test set don't have a corresponding argument in `RobertaForSequenceClassification.forward` and have been ignored: text. If text are not expected by `RobertaForSequenceClassification.forward`,  you can safely ignore this message.\n",
            "***** Running Prediction *****\n",
            "  Num examples = 60\n",
            "  Batch size = 32\n",
            "You're using a PreTrainedTokenizerFast tokenizer. Please note that with a fast tokenizer, using the `__call__` method is faster than using a method to encode the text followed by a call to the `pad` method to get a padded encoding.\n"
          ]
        },
        {
          "name": "stdout",
          "output_type": "stream",
          "text": [
            "CPU times: user 3.98 s, sys: 522 ms, total: 4.5 s\n",
            "Wall time: 4.48 s\n"
          ]
        }
      ],
      "source": [
        "%%time\n",
        "rets = analyzer.predict(oraciones)"
      ]
    },
    {
      "cell_type": "markdown",
      "metadata": {
        "id": "HZVo2CUNmGoK"
      },
      "source": [
        "### Emojis\n",
        "\n",
        "It supports the use of emojis through the [emoji](https://pypi.org/project/emoji/) library.\n",
        "\n",
        "Soporta también el uso de emojis"
      ]
    },
    {
      "cell_type": "code",
      "execution_count": null,
      "metadata": {
        "colab": {
          "base_uri": "https://localhost:8080/"
        },
        "id": "yCFPVTwyuPI_",
        "outputId": "47feaa5a-e3ce-4155-dd7e-8554913bd2c8"
      },
      "outputs": [
        {
          "data": {
            "text/plain": [
              "AnalyzerOutput(output=NEG, probas={NEG: 0.936, NEU: 0.057, POS: 0.007})"
            ]
          },
          "execution_count": 8,
          "metadata": {},
          "output_type": "execute_result"
        }
      ],
      "source": [
        "analyzer.predict(\"🤢\")"
      ]
    },
    {
      "cell_type": "markdown",
      "metadata": {
        "id": "2aYFT82umyXC"
      },
      "source": [
        "O de hashtags"
      ]
    },
    {
      "cell_type": "code",
      "execution_count": null,
      "metadata": {
        "colab": {
          "base_uri": "https://localhost:8080/"
        },
        "id": "t2Kz-xi4mzoO",
        "outputId": "c5b1ea85-d3c6-4c89-a000-be4b8fff0bd4"
      },
      "outputs": [
        {
          "data": {
            "text/plain": [
              "AnalyzerOutput(output=NEG, probas={NEG: 0.976, NEU: 0.020, POS: 0.004})"
            ]
          },
          "execution_count": 9,
          "metadata": {},
          "output_type": "execute_result"
        }
      ],
      "source": [
        "analyzer.predict(\"#EstoEsUnaMierda\")"
      ]
    },
    {
      "cell_type": "markdown",
      "metadata": {
        "id": "rFwJjPrGC9ZI"
      },
      "source": [
        "## Emotion Analysis\n",
        "\n",
        "`pysentimiento` provee análisis de emociones a través de modelos pre-entrenados con los datasets de [EmoEvent](https://github.com/fmplaza/EmoEvent-multilingual-corpus/)"
      ]
    },
    {
      "cell_type": "code",
      "execution_count": null,
      "metadata": {
        "colab": {
          "base_uri": "https://localhost:8080/"
        },
        "id": "i7V1mxieDHII",
        "outputId": "c92da31d-776d-4d59-d3eb-c11fb99fcfbf"
      },
      "outputs": [
        {
          "name": "stderr",
          "output_type": "stream",
          "text": [
            "loading configuration file config.json from cache at /users/jmperez/.cache/huggingface/hub/models--finiteautomata--bertweet-base-emotion-analysis/snapshots/c482c9e1750a29dcc393234816bcf468ff77cd2d/config.json\n",
            "Model config RobertaConfig {\n",
            "  \"_name_or_path\": \"finiteautomata/bertweet-base-emotion-analysis\",\n",
            "  \"architectures\": [\n",
            "    \"RobertaForSequenceClassification\"\n",
            "  ],\n",
            "  \"attention_probs_dropout_prob\": 0.1,\n",
            "  \"bos_token_id\": 0,\n",
            "  \"classifier_dropout\": null,\n",
            "  \"eos_token_id\": 2,\n",
            "  \"gradient_checkpointing\": false,\n",
            "  \"hidden_act\": \"gelu\",\n",
            "  \"hidden_dropout_prob\": 0.1,\n",
            "  \"hidden_size\": 768,\n",
            "  \"id2label\": {\n",
            "    \"0\": \"others\",\n",
            "    \"1\": \"joy\",\n",
            "    \"2\": \"sadness\",\n",
            "    \"3\": \"anger\",\n",
            "    \"4\": \"surprise\",\n",
            "    \"5\": \"disgust\",\n",
            "    \"6\": \"fear\"\n",
            "  },\n",
            "  \"initializer_range\": 0.02,\n",
            "  \"intermediate_size\": 3072,\n",
            "  \"label2id\": {\n",
            "    \"anger\": 3,\n",
            "    \"disgust\": 5,\n",
            "    \"fear\": 6,\n",
            "    \"joy\": 1,\n",
            "    \"others\": 0,\n",
            "    \"sadness\": 2,\n",
            "    \"surprise\": 4\n",
            "  },\n",
            "  \"layer_norm_eps\": 1e-05,\n",
            "  \"max_position_embeddings\": 130,\n",
            "  \"model_type\": \"roberta\",\n",
            "  \"num_attention_heads\": 12,\n",
            "  \"num_hidden_layers\": 12,\n",
            "  \"pad_token_id\": 1,\n",
            "  \"position_embedding_type\": \"absolute\",\n",
            "  \"tokenizer_class\": \"BertweetTokenizer\",\n",
            "  \"transformers_version\": \"4.26.0\",\n",
            "  \"type_vocab_size\": 1,\n",
            "  \"use_cache\": true,\n",
            "  \"vocab_size\": 64001\n",
            "}\n",
            "\n",
            "loading weights file pytorch_model.bin from cache at /users/jmperez/.cache/huggingface/hub/models--finiteautomata--bertweet-base-emotion-analysis/snapshots/c482c9e1750a29dcc393234816bcf468ff77cd2d/pytorch_model.bin\n",
            "All model checkpoint weights were used when initializing RobertaForSequenceClassification.\n",
            "\n",
            "All the weights of RobertaForSequenceClassification were initialized from the model checkpoint at finiteautomata/bertweet-base-emotion-analysis.\n",
            "If your task is similar to the task the model of the checkpoint was trained on, you can already use RobertaForSequenceClassification for predictions without further training.\n",
            "loading configuration file config.json from cache at /users/jmperez/.cache/huggingface/hub/models--finiteautomata--bertweet-base-emotion-analysis/snapshots/c482c9e1750a29dcc393234816bcf468ff77cd2d/config.json\n",
            "Model config RobertaConfig {\n",
            "  \"_name_or_path\": \"finiteautomata/bertweet-base-emotion-analysis\",\n",
            "  \"architectures\": [\n",
            "    \"RobertaForSequenceClassification\"\n",
            "  ],\n",
            "  \"attention_probs_dropout_prob\": 0.1,\n",
            "  \"bos_token_id\": 0,\n",
            "  \"classifier_dropout\": null,\n",
            "  \"eos_token_id\": 2,\n",
            "  \"gradient_checkpointing\": false,\n",
            "  \"hidden_act\": \"gelu\",\n",
            "  \"hidden_dropout_prob\": 0.1,\n",
            "  \"hidden_size\": 768,\n",
            "  \"id2label\": {\n",
            "    \"0\": \"others\",\n",
            "    \"1\": \"joy\",\n",
            "    \"2\": \"sadness\",\n",
            "    \"3\": \"anger\",\n",
            "    \"4\": \"surprise\",\n",
            "    \"5\": \"disgust\",\n",
            "    \"6\": \"fear\"\n",
            "  },\n",
            "  \"initializer_range\": 0.02,\n",
            "  \"intermediate_size\": 3072,\n",
            "  \"label2id\": {\n",
            "    \"anger\": 3,\n",
            "    \"disgust\": 5,\n",
            "    \"fear\": 6,\n",
            "    \"joy\": 1,\n",
            "    \"others\": 0,\n",
            "    \"sadness\": 2,\n",
            "    \"surprise\": 4\n",
            "  },\n",
            "  \"layer_norm_eps\": 1e-05,\n",
            "  \"max_position_embeddings\": 130,\n",
            "  \"model_type\": \"roberta\",\n",
            "  \"num_attention_heads\": 12,\n",
            "  \"num_hidden_layers\": 12,\n",
            "  \"pad_token_id\": 1,\n",
            "  \"position_embedding_type\": \"absolute\",\n",
            "  \"tokenizer_class\": \"BertweetTokenizer\",\n",
            "  \"transformers_version\": \"4.26.0\",\n",
            "  \"type_vocab_size\": 1,\n",
            "  \"use_cache\": true,\n",
            "  \"vocab_size\": 64001\n",
            "}\n",
            "\n",
            "loading file vocab.txt from cache at /users/jmperez/.cache/huggingface/hub/models--finiteautomata--bertweet-base-emotion-analysis/snapshots/c482c9e1750a29dcc393234816bcf468ff77cd2d/vocab.txt\n",
            "loading file bpe.codes from cache at /users/jmperez/.cache/huggingface/hub/models--finiteautomata--bertweet-base-emotion-analysis/snapshots/c482c9e1750a29dcc393234816bcf468ff77cd2d/bpe.codes\n",
            "loading file added_tokens.json from cache at /users/jmperez/.cache/huggingface/hub/models--finiteautomata--bertweet-base-emotion-analysis/snapshots/c482c9e1750a29dcc393234816bcf468ff77cd2d/added_tokens.json\n",
            "loading file special_tokens_map.json from cache at /users/jmperez/.cache/huggingface/hub/models--finiteautomata--bertweet-base-emotion-analysis/snapshots/c482c9e1750a29dcc393234816bcf468ff77cd2d/special_tokens_map.json\n",
            "loading file tokenizer_config.json from cache at /users/jmperez/.cache/huggingface/hub/models--finiteautomata--bertweet-base-emotion-analysis/snapshots/c482c9e1750a29dcc393234816bcf468ff77cd2d/tokenizer_config.json\n",
            "loading configuration file config.json from cache at /users/jmperez/.cache/huggingface/hub/models--finiteautomata--bertweet-base-emotion-analysis/snapshots/c482c9e1750a29dcc393234816bcf468ff77cd2d/config.json\n",
            "Model config RobertaConfig {\n",
            "  \"_name_or_path\": \"finiteautomata/bertweet-base-emotion-analysis\",\n",
            "  \"architectures\": [\n",
            "    \"RobertaForSequenceClassification\"\n",
            "  ],\n",
            "  \"attention_probs_dropout_prob\": 0.1,\n",
            "  \"bos_token_id\": 0,\n",
            "  \"classifier_dropout\": null,\n",
            "  \"eos_token_id\": 2,\n",
            "  \"gradient_checkpointing\": false,\n",
            "  \"hidden_act\": \"gelu\",\n",
            "  \"hidden_dropout_prob\": 0.1,\n",
            "  \"hidden_size\": 768,\n",
            "  \"id2label\": {\n",
            "    \"0\": \"others\",\n",
            "    \"1\": \"joy\",\n",
            "    \"2\": \"sadness\",\n",
            "    \"3\": \"anger\",\n",
            "    \"4\": \"surprise\",\n",
            "    \"5\": \"disgust\",\n",
            "    \"6\": \"fear\"\n",
            "  },\n",
            "  \"initializer_range\": 0.02,\n",
            "  \"intermediate_size\": 3072,\n",
            "  \"label2id\": {\n",
            "    \"anger\": 3,\n",
            "    \"disgust\": 5,\n",
            "    \"fear\": 6,\n",
            "    \"joy\": 1,\n",
            "    \"others\": 0,\n",
            "    \"sadness\": 2,\n",
            "    \"surprise\": 4\n",
            "  },\n",
            "  \"layer_norm_eps\": 1e-05,\n",
            "  \"max_position_embeddings\": 130,\n",
            "  \"model_type\": \"roberta\",\n",
            "  \"num_attention_heads\": 12,\n",
            "  \"num_hidden_layers\": 12,\n",
            "  \"pad_token_id\": 1,\n",
            "  \"position_embedding_type\": \"absolute\",\n",
            "  \"tokenizer_class\": \"BertweetTokenizer\",\n",
            "  \"transformers_version\": \"4.26.0\",\n",
            "  \"type_vocab_size\": 1,\n",
            "  \"use_cache\": true,\n",
            "  \"vocab_size\": 64001\n",
            "}\n",
            "\n",
            "Adding <mask> to the vocabulary\n",
            "PyTorch: setting up devices\n",
            "The default value for the training argument `--report_to` will change in v5 (from all installed integrations to none). In v5, you will need to use `--report_to all` to get the same behavior as now. You should start updating your code and make this info disappear :-).\n"
          ]
        }
      ],
      "source": [
        "emotion_analyzer = create_analyzer(task=\"emotion\", lang=\"en\")"
      ]
    },
    {
      "cell_type": "code",
      "execution_count": null,
      "metadata": {
        "colab": {
          "base_uri": "https://localhost:8080/"
        },
        "id": "pqvJ59CPDU0o",
        "outputId": "06fcf678-c781-4726-ead5-84dd094704d5"
      },
      "outputs": [
        {
          "data": {
            "text/plain": [
              "AnalyzerOutput(output=sadness, probas={sadness: 0.978, fear: 0.013, disgust: 0.003, others: 0.002, surprise: 0.002, anger: 0.001, joy: 0.001})"
            ]
          },
          "execution_count": 11,
          "metadata": {},
          "output_type": "execute_result"
        }
      ],
      "source": [
        "emotion_analyzer.predict(\"This is so terrible...\")"
      ]
    },
    {
      "cell_type": "code",
      "execution_count": null,
      "metadata": {
        "colab": {
          "base_uri": "https://localhost:8080/"
        },
        "id": "iT4h97LEDYsD",
        "outputId": "73ed916d-72ef-4a05-8089-a9aad5f43752"
      },
      "outputs": [
        {
          "data": {
            "text/plain": [
              "AnalyzerOutput(output=surprise, probas={surprise: 0.982, others: 0.007, fear: 0.003, joy: 0.003, sadness: 0.002, anger: 0.002, disgust: 0.001})"
            ]
          },
          "execution_count": 12,
          "metadata": {},
          "output_type": "execute_result"
        }
      ],
      "source": [
        "emotion_analyzer.predict(\"omg\")"
      ]
    },
    {
      "cell_type": "code",
      "execution_count": null,
      "metadata": {
        "colab": {
          "base_uri": "https://localhost:8080/"
        },
        "id": "803jLRS7Dbg4",
        "outputId": "1ee85e13-dd03-422c-9e0e-de20ea089f2b"
      },
      "outputs": [
        {
          "data": {
            "text/plain": [
              "AnalyzerOutput(output=joy, probas={joy: 0.879, others: 0.106, surprise: 0.005, anger: 0.005, sadness: 0.002, disgust: 0.002, fear: 0.002})"
            ]
          },
          "execution_count": 13,
          "metadata": {},
          "output_type": "execute_result"
        }
      ],
      "source": [
        "emotion_analyzer.predict(\"yayyyy\")"
      ]
    },
    {
      "cell_type": "code",
      "execution_count": null,
      "metadata": {
        "colab": {
          "base_uri": "https://localhost:8080/"
        },
        "id": "2qxU47jADcMW",
        "outputId": "4de870e2-302c-43eb-e75d-8ac27774ff7e"
      },
      "outputs": [
        {
          "data": {
            "text/plain": [
              "AnalyzerOutput(output=fear, probas={fear: 0.939, others: 0.043, surprise: 0.005, joy: 0.004, disgust: 0.004, sadness: 0.002, anger: 0.002})"
            ]
          },
          "execution_count": 14,
          "metadata": {},
          "output_type": "execute_result"
        }
      ],
      "source": [
        "emotion_analyzer.predict(\"People in the world is really worried because of Coronavirus\")"
      ]
    },
    {
      "cell_type": "markdown",
      "metadata": {
        "id": "LdN1CDnqnhtQ"
      },
      "source": [
        "## Hate Speech\n",
        "\n",
        "`pysentimiento` also supports hate speech detection, by training models using the [HatEval](https://competitions.codalab.org/competitions/19935) dataset"
      ]
    },
    {
      "cell_type": "code",
      "execution_count": null,
      "metadata": {
        "colab": {
          "base_uri": "https://localhost:8080/"
        },
        "id": "ZeuozqEWnhtQ",
        "outputId": "ab02de9e-020f-4830-ea65-dfcbb58ac2a3"
      },
      "outputs": [
        {
          "name": "stderr",
          "output_type": "stream",
          "text": [
            "loading configuration file config.json from cache at /users/jmperez/.cache/huggingface/hub/models--pysentimiento--robertuito-hate-speech/snapshots/db125ee7be2ad74457b900ae49a7e0f14f7a496c/config.json\n",
            "Model config RobertaConfig {\n",
            "  \"_name_or_path\": \"pysentimiento/robertuito-hate-speech\",\n",
            "  \"architectures\": [\n",
            "    \"RobertaForSequenceClassification\"\n",
            "  ],\n",
            "  \"attention_probs_dropout_prob\": 0.1,\n",
            "  \"bos_token_id\": 0,\n",
            "  \"classifier_dropout\": null,\n",
            "  \"eos_token_id\": 2,\n",
            "  \"gradient_checkpointing\": false,\n",
            "  \"hidden_act\": \"gelu\",\n",
            "  \"hidden_dropout_prob\": 0.1,\n",
            "  \"hidden_size\": 768,\n",
            "  \"id2label\": {\n",
            "    \"0\": \"hateful\",\n",
            "    \"1\": \"targeted\",\n",
            "    \"2\": \"aggressive\"\n",
            "  },\n",
            "  \"initializer_range\": 0.02,\n",
            "  \"intermediate_size\": 3072,\n",
            "  \"label2id\": {\n",
            "    \"aggressive\": 2,\n",
            "    \"hateful\": 0,\n",
            "    \"targeted\": 1\n",
            "  },\n",
            "  \"layer_norm_eps\": 1e-12,\n",
            "  \"max_position_embeddings\": 130,\n",
            "  \"model_type\": \"roberta\",\n",
            "  \"num_attention_heads\": 12,\n",
            "  \"num_hidden_layers\": 12,\n",
            "  \"pad_token_id\": 1,\n",
            "  \"position_embedding_type\": \"absolute\",\n",
            "  \"problem_type\": \"multi_label_classification\",\n",
            "  \"torch_dtype\": \"float32\",\n",
            "  \"transformers_version\": \"4.26.0\",\n",
            "  \"type_vocab_size\": 1,\n",
            "  \"use_cache\": true,\n",
            "  \"vocab_size\": 30002\n",
            "}\n",
            "\n",
            "loading weights file pytorch_model.bin from cache at /users/jmperez/.cache/huggingface/hub/models--pysentimiento--robertuito-hate-speech/snapshots/db125ee7be2ad74457b900ae49a7e0f14f7a496c/pytorch_model.bin\n",
            "All model checkpoint weights were used when initializing RobertaForSequenceClassification.\n",
            "\n",
            "All the weights of RobertaForSequenceClassification were initialized from the model checkpoint at pysentimiento/robertuito-hate-speech.\n",
            "If your task is similar to the task the model of the checkpoint was trained on, you can already use RobertaForSequenceClassification for predictions without further training.\n",
            "loading file tokenizer.json from cache at /users/jmperez/.cache/huggingface/hub/models--pysentimiento--robertuito-hate-speech/snapshots/db125ee7be2ad74457b900ae49a7e0f14f7a496c/tokenizer.json\n",
            "loading file added_tokens.json from cache at None\n",
            "loading file special_tokens_map.json from cache at /users/jmperez/.cache/huggingface/hub/models--pysentimiento--robertuito-hate-speech/snapshots/db125ee7be2ad74457b900ae49a7e0f14f7a496c/special_tokens_map.json\n",
            "loading file tokenizer_config.json from cache at /users/jmperez/.cache/huggingface/hub/models--pysentimiento--robertuito-hate-speech/snapshots/db125ee7be2ad74457b900ae49a7e0f14f7a496c/tokenizer_config.json\n",
            "PyTorch: setting up devices\n",
            "The default value for the training argument `--report_to` will change in v5 (from all installed integrations to none). In v5, you will need to use `--report_to all` to get the same behavior as now. You should start updating your code and make this info disappear :-).\n"
          ]
        }
      ],
      "source": [
        "hate_speech_analyzer = create_analyzer(task=\"hate_speech\", lang=\"es\")"
      ]
    },
    {
      "cell_type": "markdown",
      "metadata": {
        "id": "skwcDo6bed2f"
      },
      "source": [
        "This model is a multi-label classification algorithm, returning three different variables at the same time:\n",
        "\n",
        "- Is the message hateful or not?\n",
        "- Is the hateful message targeted at a specific person or a group?\n",
        "- Is the hateful message aggressive?"
      ]
    },
    {
      "cell_type": "code",
      "execution_count": null,
      "metadata": {
        "colab": {
          "base_uri": "https://localhost:8080/"
        },
        "id": "DCVoCKLcnhtQ",
        "outputId": "4850bc59-a058-402b-be63-4a57ad47a46e"
      },
      "outputs": [
        {
          "data": {
            "text/plain": [
              "AnalyzerOutput(output=[], probas={hateful: 0.020, targeted: 0.006, aggressive: 0.016})"
            ]
          },
          "execution_count": 16,
          "metadata": {},
          "output_type": "execute_result"
        }
      ],
      "source": [
        "hate_speech_analyzer.predict(\"Esto es una mierda pero no es odio\")"
      ]
    },
    {
      "cell_type": "code",
      "execution_count": null,
      "metadata": {
        "colab": {
          "base_uri": "https://localhost:8080/"
        },
        "id": "BPDxtfWJnhtR",
        "outputId": "14f002c4-bce9-4968-833d-e61767191278"
      },
      "outputs": [
        {
          "data": {
            "text/plain": [
              "AnalyzerOutput(output=['hateful', 'aggressive'], probas={hateful: 0.902, targeted: 0.009, aggressive: 0.539})"
            ]
          },
          "execution_count": 17,
          "metadata": {},
          "output_type": "execute_result"
        }
      ],
      "source": [
        "hate_speech_analyzer.predict(\"Esto es odio porque los inmigrantes deben ser aniquilados\")"
      ]
    },
    {
      "cell_type": "code",
      "execution_count": null,
      "metadata": {
        "colab": {
          "base_uri": "https://localhost:8080/"
        },
        "id": "ZaX94rk7nhtR",
        "outputId": "aa2b392d-64d4-4270-da1e-26f913f912c4"
      },
      "outputs": [
        {
          "data": {
            "text/plain": [
              "AnalyzerOutput(output=['hateful', 'targeted', 'aggressive'], probas={hateful: 0.982, targeted: 0.982, aggressive: 0.964})"
            ]
          },
          "execution_count": 18,
          "metadata": {},
          "output_type": "execute_result"
        }
      ],
      "source": [
        "hate_speech_analyzer.predict(\"Vaya guarra barata y de poca monta es Juana Pérez!\")"
      ]
    },
    {
      "cell_type": "markdown",
      "metadata": {
        "id": "0eNNGzVoq-hZ"
      },
      "source": [
        "## Token Labeling tasks\n",
        "\n",
        "`pysentimiento` also features POS tagging & NER analyzers, specially crafted for Twitter data, thanks to the [LinCE](https://ritual.uh.edu/lince/) dataset.\n",
        "\n",
        "`pysentimiento` cuenta con analizadores para POS tagging & NER gracias al dataset multilingual [LinCE](https://ritual.uh.edu/lince/)\n"
      ]
    },
    {
      "cell_type": "code",
      "execution_count": null,
      "metadata": {
        "colab": {
          "base_uri": "https://localhost:8080/"
        },
        "id": "hEQ4BRjorWsF",
        "outputId": "41268aa5-b7e0-42c2-c2d8-03a84b281821"
      },
      "outputs": [
        {
          "name": "stderr",
          "output_type": "stream",
          "text": [
            "loading configuration file config.json from cache at /users/jmperez/.cache/huggingface/hub/models--pysentimiento--robertuito-ner/snapshots/43dde6356afd3e8bf4f1b00a191b5122ccdfd9b3/config.json\n",
            "Model config RobertaConfig {\n",
            "  \"_name_or_path\": \"pysentimiento/robertuito-ner\",\n",
            "  \"architectures\": [\n",
            "    \"RobertaForTokenClassification\"\n",
            "  ],\n",
            "  \"attention_probs_dropout_prob\": 0.1,\n",
            "  \"bos_token_id\": 0,\n",
            "  \"classifier_dropout\": null,\n",
            "  \"eos_token_id\": 2,\n",
            "  \"gradient_checkpointing\": false,\n",
            "  \"hidden_act\": \"gelu\",\n",
            "  \"hidden_dropout_prob\": 0.1,\n",
            "  \"hidden_size\": 768,\n",
            "  \"id2label\": {\n",
            "    \"0\": \"O\",\n",
            "    \"1\": \"B-EVENT\",\n",
            "    \"2\": \"I-EVENT\",\n",
            "    \"3\": \"B-GROUP\",\n",
            "    \"4\": \"I-GROUP\",\n",
            "    \"5\": \"B-LOC\",\n",
            "    \"6\": \"I-LOC\",\n",
            "    \"7\": \"B-ORG\",\n",
            "    \"8\": \"I-ORG\",\n",
            "    \"9\": \"B-OTHER\",\n",
            "    \"10\": \"I-OTHER\",\n",
            "    \"11\": \"B-PER\",\n",
            "    \"12\": \"I-PER\",\n",
            "    \"13\": \"B-PROD\",\n",
            "    \"14\": \"I-PROD\",\n",
            "    \"15\": \"B-TIME\",\n",
            "    \"16\": \"I-TIME\",\n",
            "    \"17\": \"B-TITLE\",\n",
            "    \"18\": \"I-TITLE\"\n",
            "  },\n",
            "  \"initializer_range\": 0.02,\n",
            "  \"intermediate_size\": 3072,\n",
            "  \"label2id\": {\n",
            "    \"B-EVENT\": 1,\n",
            "    \"B-GROUP\": 3,\n",
            "    \"B-LOC\": 5,\n",
            "    \"B-ORG\": 7,\n",
            "    \"B-OTHER\": 9,\n",
            "    \"B-PER\": 11,\n",
            "    \"B-PROD\": 13,\n",
            "    \"B-TIME\": 15,\n",
            "    \"B-TITLE\": 17,\n",
            "    \"I-EVENT\": 2,\n",
            "    \"I-GROUP\": 4,\n",
            "    \"I-LOC\": 6,\n",
            "    \"I-ORG\": 8,\n",
            "    \"I-OTHER\": 10,\n",
            "    \"I-PER\": 12,\n",
            "    \"I-PROD\": 14,\n",
            "    \"I-TIME\": 16,\n",
            "    \"I-TITLE\": 18,\n",
            "    \"O\": 0\n",
            "  },\n",
            "  \"layer_norm_eps\": 1e-12,\n",
            "  \"max_position_embeddings\": 130,\n",
            "  \"model_type\": \"roberta\",\n",
            "  \"num_attention_heads\": 12,\n",
            "  \"num_hidden_layers\": 12,\n",
            "  \"pad_token_id\": 1,\n",
            "  \"position_embedding_type\": \"absolute\",\n",
            "  \"torch_dtype\": \"float32\",\n",
            "  \"transformers_version\": \"4.26.0\",\n",
            "  \"type_vocab_size\": 1,\n",
            "  \"use_cache\": true,\n",
            "  \"vocab_size\": 30002\n",
            "}\n",
            "\n",
            "loading weights file pytorch_model.bin from cache at /users/jmperez/.cache/huggingface/hub/models--pysentimiento--robertuito-ner/snapshots/43dde6356afd3e8bf4f1b00a191b5122ccdfd9b3/pytorch_model.bin\n",
            "All model checkpoint weights were used when initializing RobertaForTokenClassification.\n",
            "\n",
            "All the weights of RobertaForTokenClassification were initialized from the model checkpoint at pysentimiento/robertuito-ner.\n",
            "If your task is similar to the task the model of the checkpoint was trained on, you can already use RobertaForTokenClassification for predictions without further training.\n",
            "loading file tokenizer.json from cache at /users/jmperez/.cache/huggingface/hub/models--pysentimiento--robertuito-ner/snapshots/43dde6356afd3e8bf4f1b00a191b5122ccdfd9b3/tokenizer.json\n",
            "loading file added_tokens.json from cache at None\n",
            "loading file special_tokens_map.json from cache at /users/jmperez/.cache/huggingface/hub/models--pysentimiento--robertuito-ner/snapshots/43dde6356afd3e8bf4f1b00a191b5122ccdfd9b3/special_tokens_map.json\n",
            "loading file tokenizer_config.json from cache at /users/jmperez/.cache/huggingface/hub/models--pysentimiento--robertuito-ner/snapshots/43dde6356afd3e8bf4f1b00a191b5122ccdfd9b3/tokenizer_config.json\n",
            "PyTorch: setting up devices\n",
            "The default value for the training argument `--report_to` will change in v5 (from all installed integrations to none). In v5, you will need to use `--report_to all` to get the same behavior as now. You should start updating your code and make this info disappear :-).\n"
          ]
        }
      ],
      "source": [
        "ner_analyzer = create_analyzer(\"ner\", lang=\"es\")"
      ]
    },
    {
      "cell_type": "code",
      "execution_count": null,
      "metadata": {
        "colab": {
          "base_uri": "https://localhost:8080/"
        },
        "id": "zRluXmDfrtdI",
        "outputId": "5308fb8f-73a3-486d-ebce-6fd5a70bb79a"
      },
      "outputs": [
        {
          "data": {
            "text/plain": [
              "TokenClassificationOutput(entities=[República Dominicana (LOC)], tokens=['Me', 'voy', 'de', 'vacaciones', 'a', 'República', 'Dominicana', '😎'], labels=['O', 'O', 'O', 'O', 'O', 'B-LOC', 'I-LOC', 'O'])"
            ]
          },
          "execution_count": 20,
          "metadata": {},
          "output_type": "execute_result"
        }
      ],
      "source": [
        "ner_analyzer.predict(\"Me voy de vacaciones a República Dominicana 😎\")"
      ]
    },
    {
      "cell_type": "code",
      "execution_count": null,
      "metadata": {
        "colab": {
          "base_uri": "https://localhost:8080/"
        },
        "id": "VyTXJaa4rujb",
        "outputId": "4a2bfe3b-756a-4926-80a3-4ea5e9850649"
      },
      "outputs": [
        {
          "data": {
            "text/plain": [
              "TokenClassificationOutput(entities=[Juan Manuel Pérez (PER)], tokens=['Me', 'llamo', 'Juan', 'Manuel', 'Pérez', 'y', 'vivo', 'en', '🇦', '🇷', '😎'], labels=['O', 'O', 'B-PER', 'I-PER', 'I-PER', 'O', 'O', 'O', 'O', 'O', 'O'])"
            ]
          },
          "execution_count": 21,
          "metadata": {},
          "output_type": "execute_result"
        }
      ],
      "source": [
        "ner_analyzer.predict(\"Me llamo Juan Manuel Pérez y vivo en 🇦🇷😎\")"
      ]
    },
    {
      "cell_type": "code",
      "execution_count": null,
      "metadata": {
        "colab": {
          "base_uri": "https://localhost:8080/"
        },
        "id": "bEE5T5X1r8uu",
        "outputId": "3e05e321-1070-4d25-bbce-625a38a3d121"
      },
      "outputs": [
        {
          "name": "stderr",
          "output_type": "stream",
          "text": [
            "loading configuration file config.json from cache at /users/jmperez/.cache/huggingface/hub/models--pysentimiento--robertuito-pos/snapshots/c65b4a1da16bbf15cb89a7cadc4dbb7b11ccd22d/config.json\n",
            "Model config RobertaConfig {\n",
            "  \"_name_or_path\": \"pysentimiento/robertuito-pos\",\n",
            "  \"architectures\": [\n",
            "    \"RobertaForTokenClassification\"\n",
            "  ],\n",
            "  \"attention_probs_dropout_prob\": 0.1,\n",
            "  \"bos_token_id\": 0,\n",
            "  \"classifier_dropout\": null,\n",
            "  \"eos_token_id\": 2,\n",
            "  \"gradient_checkpointing\": false,\n",
            "  \"hidden_act\": \"gelu\",\n",
            "  \"hidden_dropout_prob\": 0.1,\n",
            "  \"hidden_size\": 768,\n",
            "  \"id2label\": {\n",
            "    \"0\": \"B-VERB\",\n",
            "    \"1\": \"B-PUNCT\",\n",
            "    \"2\": \"B-PRON\",\n",
            "    \"3\": \"B-NOUN\",\n",
            "    \"4\": \"B-DET\",\n",
            "    \"5\": \"B-ADV\",\n",
            "    \"6\": \"B-ADP\",\n",
            "    \"7\": \"B-INTJ\",\n",
            "    \"8\": \"B-CONJ\",\n",
            "    \"9\": \"B-ADJ\",\n",
            "    \"10\": \"B-AUX\",\n",
            "    \"11\": \"B-SCONJ\",\n",
            "    \"12\": \"B-PART\",\n",
            "    \"13\": \"B-PROPN\",\n",
            "    \"14\": \"B-NUM\",\n",
            "    \"15\": \"B-UNK\",\n",
            "    \"16\": \"B-X\"\n",
            "  },\n",
            "  \"initializer_range\": 0.02,\n",
            "  \"intermediate_size\": 3072,\n",
            "  \"label2id\": {\n",
            "    \"B-ADJ\": 9,\n",
            "    \"B-ADP\": 6,\n",
            "    \"B-ADV\": 5,\n",
            "    \"B-AUX\": 10,\n",
            "    \"B-CONJ\": 8,\n",
            "    \"B-DET\": 4,\n",
            "    \"B-INTJ\": 7,\n",
            "    \"B-NOUN\": 3,\n",
            "    \"B-NUM\": 14,\n",
            "    \"B-PART\": 12,\n",
            "    \"B-PRON\": 2,\n",
            "    \"B-PROPN\": 13,\n",
            "    \"B-PUNCT\": 1,\n",
            "    \"B-SCONJ\": 11,\n",
            "    \"B-UNK\": 15,\n",
            "    \"B-VERB\": 0,\n",
            "    \"B-X\": 16\n",
            "  },\n",
            "  \"layer_norm_eps\": 1e-12,\n",
            "  \"max_position_embeddings\": 130,\n",
            "  \"model_type\": \"roberta\",\n",
            "  \"num_attention_heads\": 12,\n",
            "  \"num_hidden_layers\": 12,\n",
            "  \"pad_token_id\": 1,\n",
            "  \"position_embedding_type\": \"absolute\",\n",
            "  \"torch_dtype\": \"float32\",\n",
            "  \"transformers_version\": \"4.26.0\",\n",
            "  \"type_vocab_size\": 1,\n",
            "  \"use_cache\": true,\n",
            "  \"vocab_size\": 30003\n",
            "}\n",
            "\n",
            "loading weights file pytorch_model.bin from cache at /users/jmperez/.cache/huggingface/hub/models--pysentimiento--robertuito-pos/snapshots/c65b4a1da16bbf15cb89a7cadc4dbb7b11ccd22d/pytorch_model.bin\n",
            "All model checkpoint weights were used when initializing RobertaForTokenClassification.\n",
            "\n",
            "All the weights of RobertaForTokenClassification were initialized from the model checkpoint at pysentimiento/robertuito-pos.\n",
            "If your task is similar to the task the model of the checkpoint was trained on, you can already use RobertaForTokenClassification for predictions without further training.\n",
            "loading file tokenizer.json from cache at /users/jmperez/.cache/huggingface/hub/models--pysentimiento--robertuito-pos/snapshots/c65b4a1da16bbf15cb89a7cadc4dbb7b11ccd22d/tokenizer.json\n",
            "loading file added_tokens.json from cache at None\n",
            "loading file special_tokens_map.json from cache at /users/jmperez/.cache/huggingface/hub/models--pysentimiento--robertuito-pos/snapshots/c65b4a1da16bbf15cb89a7cadc4dbb7b11ccd22d/special_tokens_map.json\n",
            "loading file tokenizer_config.json from cache at /users/jmperez/.cache/huggingface/hub/models--pysentimiento--robertuito-pos/snapshots/c65b4a1da16bbf15cb89a7cadc4dbb7b11ccd22d/tokenizer_config.json\n",
            "PyTorch: setting up devices\n",
            "The default value for the training argument `--report_to` will change in v5 (from all installed integrations to none). In v5, you will need to use `--report_to all` to get the same behavior as now. You should start updating your code and make this info disappear :-).\n"
          ]
        }
      ],
      "source": [
        "pos_tagger = create_analyzer(\"pos\", \"es\")"
      ]
    },
    {
      "cell_type": "code",
      "execution_count": null,
      "metadata": {
        "colab": {
          "base_uri": "https://localhost:8080/"
        },
        "id": "pDGTU1pAsBp1",
        "outputId": "7fc898a8-35ea-4816-b839-73fce2818fa5"
      },
      "outputs": [
        {
          "data": {
            "text/plain": [
              "TokenClassificationOutput(tokens=['Me', 'llamo', 'Juan', 'Manuel', 'Pérez', 'y', 'vivo', 'en', 'Argentina'], labels=['PRON', 'VERB', 'PROPN', 'PROPN', 'PROPN', 'CONJ', 'VERB', 'ADP', 'PROPN'])"
            ]
          },
          "execution_count": 23,
          "metadata": {},
          "output_type": "execute_result"
        }
      ],
      "source": [
        "pos_tagger.predict(\"Me llamo Juan Manuel Pérez y vivo en Argentina\")"
      ]
    },
    {
      "cell_type": "markdown",
      "metadata": {
        "id": "5dkP6W6fm3GS"
      },
      "source": [
        "## Preprocessing\n",
        "\n",
        "`pysentimiento` tiene un módulo de preprocesamiento de tweets con varias\n",
        "opciones para manipular hashtags, emojis, repetición de caracteres y demás.\n",
        "\n",
        "`pysentimiento` features a preprocessing module with various options for manipulating hashtags, emojis, character repetition, and so on."
      ]
    },
    {
      "cell_type": "code",
      "execution_count": null,
      "metadata": {
        "colab": {
          "base_uri": "https://localhost:8080/",
          "height": 35
        },
        "id": "_1AboMfXmLsL",
        "outputId": "e5833825-5175-415c-bae3-c93bddcb374f"
      },
      "outputs": [
        {
          "data": {
            "text/plain": [
              "'emoji altavoz de mano emoji  @usuario ha sido banneado de Twitter hashtag breaking news'"
            ]
          },
          "execution_count": 24,
          "metadata": {},
          "output_type": "execute_result"
        }
      ],
      "source": [
        "from pysentimiento.preprocessing import preprocess_tweet\n",
        "\n",
        "preprocess_tweet(\"📢 @realDonaldTrump ha sido banneado de Twitter #BreakingNews\")"
      ]
    },
    {
      "cell_type": "code",
      "execution_count": null,
      "metadata": {
        "colab": {
          "base_uri": "https://localhost:8080/",
          "height": 35
        },
        "id": "le3-AiC0glMe",
        "outputId": "700ee2db-a140-43c6-f988-a9ff16ca1c97"
      },
      "outputs": [
        {
          "data": {
            "text/plain": [
              "'📢 @realDonaldTrump ha sido banneado de Twitter hashtag breaking news'"
            ]
          },
          "execution_count": 25,
          "metadata": {},
          "output_type": "execute_result"
        }
      ],
      "source": [
        "preprocess_tweet(\"📢 @realDonaldTrump ha sido banneado de Twitter #BreakingNews\", preprocess_handles=False, demoji=False)"
      ]
    },
    {
      "cell_type": "code",
      "execution_count": null,
      "metadata": {
        "id": "rVq-w2fcgr_z",
        "outputId": "f34fa6b1-4518-4e47-e353-3a149a1ac532"
      },
      "outputs": [
        {
          "name": "stdout",
          "output_type": "stream",
          "text": [
            "\u001b[0;31mSignature:\u001b[0m\n",
            "\u001b[0mpreprocess_tweet\u001b[0m\u001b[0;34m(\u001b[0m\u001b[0;34m\u001b[0m\n",
            "\u001b[0;34m\u001b[0m    \u001b[0mtext\u001b[0m\u001b[0;34m,\u001b[0m\u001b[0;34m\u001b[0m\n",
            "\u001b[0;34m\u001b[0m    \u001b[0mlang\u001b[0m\u001b[0;34m=\u001b[0m\u001b[0;34m'es'\u001b[0m\u001b[0;34m,\u001b[0m\u001b[0;34m\u001b[0m\n",
            "\u001b[0;34m\u001b[0m    \u001b[0muser_token\u001b[0m\u001b[0;34m=\u001b[0m\u001b[0;32mNone\u001b[0m\u001b[0;34m,\u001b[0m\u001b[0;34m\u001b[0m\n",
            "\u001b[0;34m\u001b[0m    \u001b[0murl_token\u001b[0m\u001b[0;34m=\u001b[0m\u001b[0;32mNone\u001b[0m\u001b[0;34m,\u001b[0m\u001b[0;34m\u001b[0m\n",
            "\u001b[0;34m\u001b[0m    \u001b[0mpreprocess_hashtags\u001b[0m\u001b[0;34m=\u001b[0m\u001b[0;32mTrue\u001b[0m\u001b[0;34m,\u001b[0m\u001b[0;34m\u001b[0m\n",
            "\u001b[0;34m\u001b[0m    \u001b[0mhashtag_token\u001b[0m\u001b[0;34m=\u001b[0m\u001b[0;32mNone\u001b[0m\u001b[0;34m,\u001b[0m\u001b[0;34m\u001b[0m\n",
            "\u001b[0;34m\u001b[0m    \u001b[0mchar_replace\u001b[0m\u001b[0;34m=\u001b[0m\u001b[0;32mTrue\u001b[0m\u001b[0;34m,\u001b[0m\u001b[0;34m\u001b[0m\n",
            "\u001b[0;34m\u001b[0m    \u001b[0mdemoji\u001b[0m\u001b[0;34m=\u001b[0m\u001b[0;32mTrue\u001b[0m\u001b[0;34m,\u001b[0m\u001b[0;34m\u001b[0m\n",
            "\u001b[0;34m\u001b[0m    \u001b[0mshorten\u001b[0m\u001b[0;34m=\u001b[0m\u001b[0;36m3\u001b[0m\u001b[0;34m,\u001b[0m\u001b[0;34m\u001b[0m\n",
            "\u001b[0;34m\u001b[0m    \u001b[0mnormalize_laughter\u001b[0m\u001b[0;34m=\u001b[0m\u001b[0;32mTrue\u001b[0m\u001b[0;34m,\u001b[0m\u001b[0;34m\u001b[0m\n",
            "\u001b[0;34m\u001b[0m    \u001b[0memoji_wrapper\u001b[0m\u001b[0;34m=\u001b[0m\u001b[0;34m'emoji'\u001b[0m\u001b[0;34m,\u001b[0m\u001b[0;34m\u001b[0m\n",
            "\u001b[0;34m\u001b[0m    \u001b[0mpreprocess_handles\u001b[0m\u001b[0;34m=\u001b[0m\u001b[0;32mTrue\u001b[0m\u001b[0;34m,\u001b[0m\u001b[0;34m\u001b[0m\n",
            "\u001b[0;34m\u001b[0m\u001b[0;34m)\u001b[0m\u001b[0;34m\u001b[0m\u001b[0;34m\u001b[0m\u001b[0m\n",
            "\u001b[0;31mSource:\u001b[0m   \n",
            "\u001b[0;32mdef\u001b[0m \u001b[0mpreprocess_tweet\u001b[0m\u001b[0;34m(\u001b[0m\u001b[0;34m\u001b[0m\n",
            "\u001b[0;34m\u001b[0m        \u001b[0mtext\u001b[0m\u001b[0;34m,\u001b[0m \u001b[0mlang\u001b[0m\u001b[0;34m=\u001b[0m\u001b[0;34m\"es\"\u001b[0m\u001b[0;34m,\u001b[0m \u001b[0muser_token\u001b[0m\u001b[0;34m=\u001b[0m\u001b[0;32mNone\u001b[0m\u001b[0;34m,\u001b[0m \u001b[0murl_token\u001b[0m\u001b[0;34m=\u001b[0m\u001b[0;32mNone\u001b[0m\u001b[0;34m,\u001b[0m \u001b[0mpreprocess_hashtags\u001b[0m\u001b[0;34m=\u001b[0m\u001b[0;32mTrue\u001b[0m\u001b[0;34m,\u001b[0m \u001b[0mhashtag_token\u001b[0m\u001b[0;34m=\u001b[0m\u001b[0;32mNone\u001b[0m\u001b[0;34m,\u001b[0m \u001b[0mchar_replace\u001b[0m\u001b[0;34m=\u001b[0m\u001b[0;32mTrue\u001b[0m\u001b[0;34m,\u001b[0m\u001b[0;34m\u001b[0m\n",
            "\u001b[0;34m\u001b[0m        \u001b[0mdemoji\u001b[0m\u001b[0;34m=\u001b[0m\u001b[0;32mTrue\u001b[0m\u001b[0;34m,\u001b[0m \u001b[0mshorten\u001b[0m\u001b[0;34m=\u001b[0m\u001b[0;36m3\u001b[0m\u001b[0;34m,\u001b[0m \u001b[0mnormalize_laughter\u001b[0m\u001b[0;34m=\u001b[0m\u001b[0;32mTrue\u001b[0m\u001b[0;34m,\u001b[0m \u001b[0memoji_wrapper\u001b[0m\u001b[0;34m=\u001b[0m\u001b[0;34m\"emoji\"\u001b[0m\u001b[0;34m,\u001b[0m \u001b[0mpreprocess_handles\u001b[0m\u001b[0;34m=\u001b[0m\u001b[0;32mTrue\u001b[0m\u001b[0;34m)\u001b[0m\u001b[0;34m:\u001b[0m\u001b[0;34m\u001b[0m\n",
            "\u001b[0;34m\u001b[0m    \u001b[0;34m\"\"\"\u001b[0m\n",
            "\u001b[0;34m    Basic preprocessing\u001b[0m\n",
            "\u001b[0;34m\u001b[0m\n",
            "\u001b[0;34m    Arguments:\u001b[0m\n",
            "\u001b[0;34m    ---------\u001b[0m\n",
            "\u001b[0;34m\u001b[0m\n",
            "\u001b[0;34m    text: str\u001b[0m\n",
            "\u001b[0;34m        Text to preprocess\u001b[0m\n",
            "\u001b[0;34m\u001b[0m\n",
            "\u001b[0;34m    lang: str (default 'es')\u001b[0m\n",
            "\u001b[0;34m        Language used in the preprocessing. This is used for the demoji functionality and laughter preprocessing\u001b[0m\n",
            "\u001b[0;34m\u001b[0m\n",
            "\u001b[0;34m    user_token: str (default \"[USER]\")\u001b[0m\n",
            "\u001b[0;34m        Token used to replace user handles\u001b[0m\n",
            "\u001b[0;34m\u001b[0m\n",
            "\u001b[0;34m    url_token: str (default \"[URL]\")\u001b[0m\n",
            "\u001b[0;34m        Token used to replace urls\u001b[0m\n",
            "\u001b[0;34m\u001b[0m\n",
            "\u001b[0;34m    preprocess_hashtags: boolean (default True)\u001b[0m\n",
            "\u001b[0;34m        If true, applies preprocessing to hashtag, trying to split camel cases\u001b[0m\n",
            "\u001b[0;34m\u001b[0m\n",
            "\u001b[0;34m    hashtag_token: str (default None)\u001b[0m\n",
            "\u001b[0;34m        If preprocess_hashtags is True, adds hashtag_token before the preprocessed content of the hashtag\u001b[0m\n",
            "\u001b[0;34m\u001b[0m\n",
            "\u001b[0;34m    shorten: int (default: 3)\u001b[0m\n",
            "\u001b[0;34m        If not none, all occurrences of shorten or more characters are cut to this number\u001b[0m\n",
            "\u001b[0;34m\u001b[0m\n",
            "\u001b[0;34m    char_replace: bool (default: True)\u001b[0m\n",
            "\u001b[0;34m        If true, replaces or removes special characters to equivalent ones.\u001b[0m\n",
            "\u001b[0;34m\u001b[0m\n",
            "\u001b[0;34m    demoji: boolean (default True)\u001b[0m\n",
            "\u001b[0;34m        If true, converts emoji to text representations using `emoji` library, and wraps this with \"emoji\" tokens\u001b[0m\n",
            "\u001b[0;34m\u001b[0m\n",
            "\u001b[0;34m    normalize_laughter: boolean (default True)\u001b[0m\n",
            "\u001b[0;34m        Normalizes laughters. Uses different regular expressions depending on the lang argument.\u001b[0m\n",
            "\u001b[0;34m\u001b[0m\n",
            "\u001b[0;34m    preprocess_handles: boolean (default True)\u001b[0m\n",
            "\u001b[0;34m        If true, replaces user handles with user_token\u001b[0m\n",
            "\u001b[0;34m    \"\"\"\u001b[0m\u001b[0;34m\u001b[0m\n",
            "\u001b[0;34m\u001b[0m\u001b[0;34m\u001b[0m\n",
            "\u001b[0;34m\u001b[0m    \u001b[0muser_token\u001b[0m \u001b[0;34m=\u001b[0m \u001b[0muser_token\u001b[0m \u001b[0;32mor\u001b[0m \u001b[0mdefault_args\u001b[0m\u001b[0;34m[\u001b[0m\u001b[0mlang\u001b[0m\u001b[0;34m]\u001b[0m\u001b[0;34m[\u001b[0m\u001b[0;34m\"user_token\"\u001b[0m\u001b[0;34m]\u001b[0m\u001b[0;34m\u001b[0m\n",
            "\u001b[0;34m\u001b[0m    \u001b[0murl_token\u001b[0m \u001b[0;34m=\u001b[0m \u001b[0murl_token\u001b[0m \u001b[0;32mor\u001b[0m \u001b[0mdefault_args\u001b[0m\u001b[0;34m[\u001b[0m\u001b[0mlang\u001b[0m\u001b[0;34m]\u001b[0m\u001b[0;34m[\u001b[0m\u001b[0;34m\"url_token\"\u001b[0m\u001b[0;34m]\u001b[0m\u001b[0;34m\u001b[0m\n",
            "\u001b[0;34m\u001b[0m    \u001b[0mhashtag_token\u001b[0m \u001b[0;34m=\u001b[0m \u001b[0mhashtag_token\u001b[0m \u001b[0;32mor\u001b[0m \u001b[0mdefault_args\u001b[0m\u001b[0;34m[\u001b[0m\u001b[0mlang\u001b[0m\u001b[0;34m]\u001b[0m\u001b[0;34m[\u001b[0m\u001b[0;34m\"hashtag_token\"\u001b[0m\u001b[0;34m]\u001b[0m\u001b[0;34m\u001b[0m\n",
            "\u001b[0;34m\u001b[0m\u001b[0;34m\u001b[0m\n",
            "\u001b[0;34m\u001b[0m    \u001b[0;32mdef\u001b[0m \u001b[0mprocess_hashtags\u001b[0m\u001b[0;34m(\u001b[0m\u001b[0mx\u001b[0m\u001b[0;34m)\u001b[0m\u001b[0;34m:\u001b[0m\u001b[0;34m\u001b[0m\n",
            "\u001b[0;34m\u001b[0m        \u001b[0;34m\"\"\"\u001b[0m\n",
            "\u001b[0;34m        Hashtag preprocessing function\u001b[0m\n",
            "\u001b[0;34m\u001b[0m\n",
            "\u001b[0;34m        Take first group and decamelize\u001b[0m\n",
            "\u001b[0;34m        \"\"\"\u001b[0m\u001b[0;34m\u001b[0m\n",
            "\u001b[0;34m\u001b[0m\u001b[0;34m\u001b[0m\n",
            "\u001b[0;34m\u001b[0m        \u001b[0mtext\u001b[0m \u001b[0;34m=\u001b[0m \u001b[0mx\u001b[0m\u001b[0;34m.\u001b[0m\u001b[0mgroups\u001b[0m\u001b[0;34m(\u001b[0m\u001b[0;34m)\u001b[0m\u001b[0;34m[\u001b[0m\u001b[0;36m0\u001b[0m\u001b[0;34m]\u001b[0m\u001b[0;34m\u001b[0m\n",
            "\u001b[0;34m\u001b[0m\u001b[0;34m\u001b[0m\n",
            "\u001b[0;34m\u001b[0m        \u001b[0mtext\u001b[0m \u001b[0;34m=\u001b[0m \u001b[0mcamel_to_human\u001b[0m\u001b[0;34m(\u001b[0m\u001b[0mtext\u001b[0m\u001b[0;34m)\u001b[0m\u001b[0;34m\u001b[0m\n",
            "\u001b[0;34m\u001b[0m\u001b[0;34m\u001b[0m\n",
            "\u001b[0;34m\u001b[0m        \u001b[0;32mif\u001b[0m \u001b[0mhashtag_token\u001b[0m\u001b[0;34m:\u001b[0m\u001b[0;34m\u001b[0m\n",
            "\u001b[0;34m\u001b[0m            \u001b[0mtext\u001b[0m \u001b[0;34m=\u001b[0m \u001b[0mhashtag_token\u001b[0m \u001b[0;34m+\u001b[0m \u001b[0;34m\" \"\u001b[0m \u001b[0;34m+\u001b[0m \u001b[0mtext\u001b[0m\u001b[0;34m\u001b[0m\n",
            "\u001b[0;34m\u001b[0m\u001b[0;34m\u001b[0m\n",
            "\u001b[0;34m\u001b[0m        \u001b[0;32mreturn\u001b[0m \u001b[0mtext\u001b[0m\u001b[0;34m\u001b[0m\n",
            "\u001b[0;34m\u001b[0m\u001b[0;34m\u001b[0m\n",
            "\u001b[0;34m\u001b[0m    \u001b[0;32mif\u001b[0m \u001b[0mpreprocess_hashtags\u001b[0m\u001b[0;34m:\u001b[0m\u001b[0;34m\u001b[0m\n",
            "\u001b[0;34m\u001b[0m        \u001b[0mtext\u001b[0m \u001b[0;34m=\u001b[0m \u001b[0mhashtag_regex\u001b[0m\u001b[0;34m.\u001b[0m\u001b[0msub\u001b[0m\u001b[0;34m(\u001b[0m\u001b[0;34m\u001b[0m\n",
            "\u001b[0;34m\u001b[0m            \u001b[0mprocess_hashtags\u001b[0m\u001b[0;34m,\u001b[0m\u001b[0;34m\u001b[0m\n",
            "\u001b[0;34m\u001b[0m            \u001b[0mtext\u001b[0m\u001b[0;34m\u001b[0m\n",
            "\u001b[0;34m\u001b[0m        \u001b[0;34m)\u001b[0m\u001b[0;34m\u001b[0m\n",
            "\u001b[0;34m\u001b[0m\u001b[0;34m\u001b[0m\n",
            "\u001b[0;34m\u001b[0m    \u001b[0;32mif\u001b[0m \u001b[0mchar_replace\u001b[0m\u001b[0;34m:\u001b[0m\u001b[0;34m\u001b[0m\n",
            "\u001b[0;34m\u001b[0m        \u001b[0mret\u001b[0m \u001b[0;34m=\u001b[0m \u001b[0;34m\"\"\u001b[0m\u001b[0;34m\u001b[0m\n",
            "\u001b[0;34m\u001b[0m        \u001b[0;32mfor\u001b[0m \u001b[0mchar\u001b[0m \u001b[0;32min\u001b[0m \u001b[0mtext\u001b[0m\u001b[0;34m:\u001b[0m\u001b[0;34m\u001b[0m\n",
            "\u001b[0;34m\u001b[0m            \u001b[0;32mif\u001b[0m \u001b[0mchar\u001b[0m \u001b[0;32min\u001b[0m \u001b[0mreplacements\u001b[0m\u001b[0;34m:\u001b[0m\u001b[0;34m\u001b[0m\n",
            "\u001b[0;34m\u001b[0m                \u001b[0mreplacement\u001b[0m \u001b[0;34m=\u001b[0m \u001b[0mreplacements\u001b[0m\u001b[0;34m[\u001b[0m\u001b[0mchar\u001b[0m\u001b[0;34m]\u001b[0m\u001b[0;34m\u001b[0m\n",
            "\u001b[0;34m\u001b[0m                \u001b[0;32mif\u001b[0m \u001b[0mreplacement\u001b[0m\u001b[0;34m:\u001b[0m\u001b[0;34m\u001b[0m\n",
            "\u001b[0;34m\u001b[0m                    \u001b[0mret\u001b[0m \u001b[0;34m+=\u001b[0m \u001b[0mreplacement\u001b[0m\u001b[0;34m\u001b[0m\n",
            "\u001b[0;34m\u001b[0m            \u001b[0;32melse\u001b[0m\u001b[0;34m:\u001b[0m\u001b[0;34m\u001b[0m\n",
            "\u001b[0;34m\u001b[0m                \u001b[0mret\u001b[0m \u001b[0;34m+=\u001b[0m \u001b[0mchar\u001b[0m\u001b[0;34m\u001b[0m\n",
            "\u001b[0;34m\u001b[0m        \u001b[0mtext\u001b[0m \u001b[0;34m=\u001b[0m \u001b[0mret\u001b[0m\u001b[0;34m\u001b[0m\n",
            "\u001b[0;34m\u001b[0m\u001b[0;34m\u001b[0m\n",
            "\u001b[0;34m\u001b[0m    \u001b[0;32mif\u001b[0m \u001b[0mpreprocess_handles\u001b[0m\u001b[0;34m:\u001b[0m\u001b[0;34m\u001b[0m\n",
            "\u001b[0;34m\u001b[0m        \u001b[0mtext\u001b[0m \u001b[0;34m=\u001b[0m \u001b[0muser_regex\u001b[0m\u001b[0;34m.\u001b[0m\u001b[0msub\u001b[0m\u001b[0;34m(\u001b[0m\u001b[0muser_token\u001b[0m\u001b[0;34m,\u001b[0m \u001b[0mtext\u001b[0m\u001b[0;34m)\u001b[0m\u001b[0;34m\u001b[0m\n",
            "\u001b[0;34m\u001b[0m\u001b[0;34m\u001b[0m\n",
            "\u001b[0;34m\u001b[0m    \u001b[0mtext\u001b[0m \u001b[0;34m=\u001b[0m \u001b[0murl_regex\u001b[0m\u001b[0;34m.\u001b[0m\u001b[0msub\u001b[0m\u001b[0;34m(\u001b[0m\u001b[0murl_token\u001b[0m\u001b[0;34m,\u001b[0m \u001b[0mtext\u001b[0m\u001b[0;34m)\u001b[0m\u001b[0;34m\u001b[0m\n",
            "\u001b[0;34m\u001b[0m\u001b[0;34m\u001b[0m\n",
            "\u001b[0;34m\u001b[0m    \u001b[0;32mif\u001b[0m \u001b[0mshorten\u001b[0m\u001b[0;34m:\u001b[0m\u001b[0;34m\u001b[0m\n",
            "\u001b[0;34m\u001b[0m        \u001b[0mrepeated_regex\u001b[0m \u001b[0;34m=\u001b[0m \u001b[0mre\u001b[0m\u001b[0;34m.\u001b[0m\u001b[0mcompile\u001b[0m\u001b[0;34m(\u001b[0m\u001b[0;34mr\"(.)\"\u001b[0m \u001b[0;34m+\u001b[0m \u001b[0;34mr\"\\1\"\u001b[0m \u001b[0;34m*\u001b[0m \u001b[0;34m(\u001b[0m\u001b[0mshorten\u001b[0m\u001b[0;34m-\u001b[0m\u001b[0;36m1\u001b[0m\u001b[0;34m)\u001b[0m \u001b[0;34m+\u001b[0m \u001b[0;34m\"+\"\u001b[0m\u001b[0;34m)\u001b[0m\u001b[0;34m\u001b[0m\n",
            "\u001b[0;34m\u001b[0m        \u001b[0mtext\u001b[0m \u001b[0;34m=\u001b[0m \u001b[0mrepeated_regex\u001b[0m\u001b[0;34m.\u001b[0m\u001b[0msub\u001b[0m\u001b[0;34m(\u001b[0m\u001b[0;34mr\"\\1\"\u001b[0m\u001b[0;34m*\u001b[0m\u001b[0mshorten\u001b[0m\u001b[0;34m,\u001b[0m \u001b[0mtext\u001b[0m\u001b[0;34m)\u001b[0m\u001b[0;34m\u001b[0m\n",
            "\u001b[0;34m\u001b[0m\u001b[0;34m\u001b[0m\n",
            "\u001b[0;34m\u001b[0m    \u001b[0;32mif\u001b[0m \u001b[0mdemoji\u001b[0m\u001b[0;34m:\u001b[0m\u001b[0;34m\u001b[0m\n",
            "\u001b[0;34m\u001b[0m        \u001b[0mtext\u001b[0m \u001b[0;34m=\u001b[0m \u001b[0memoji\u001b[0m\u001b[0;34m.\u001b[0m\u001b[0mdemojize\u001b[0m\u001b[0;34m(\u001b[0m\u001b[0mtext\u001b[0m\u001b[0;34m,\u001b[0m \u001b[0mlanguage\u001b[0m\u001b[0;34m=\u001b[0m\u001b[0mlang\u001b[0m\u001b[0;34m,\u001b[0m \u001b[0mdelimiters\u001b[0m\u001b[0;34m=\u001b[0m\u001b[0;34m(\u001b[0m\u001b[0;34m\"|\"\u001b[0m\u001b[0;34m,\u001b[0m \u001b[0;34m\"|\"\u001b[0m\u001b[0;34m)\u001b[0m\u001b[0;34m)\u001b[0m\u001b[0;34m\u001b[0m\n",
            "\u001b[0;34m\u001b[0m        \u001b[0mtext\u001b[0m \u001b[0;34m=\u001b[0m \u001b[0memoji_regex\u001b[0m\u001b[0;34m.\u001b[0m\u001b[0msub\u001b[0m\u001b[0;34m(\u001b[0m\u001b[0;34m\u001b[0m\n",
            "\u001b[0;34m\u001b[0m            \u001b[0;32mlambda\u001b[0m \u001b[0mx\u001b[0m\u001b[0;34m:\u001b[0m \u001b[0mconvert_emoji_to_text\u001b[0m\u001b[0;34m(\u001b[0m\u001b[0mx\u001b[0m\u001b[0;34m,\u001b[0m \u001b[0memoji_wrapper\u001b[0m\u001b[0;34m=\u001b[0m\u001b[0memoji_wrapper\u001b[0m\u001b[0;34m)\u001b[0m\u001b[0;34m,\u001b[0m\u001b[0;34m\u001b[0m\n",
            "\u001b[0;34m\u001b[0m            \u001b[0mtext\u001b[0m\u001b[0;34m\u001b[0m\n",
            "\u001b[0;34m\u001b[0m        \u001b[0;34m)\u001b[0m\u001b[0;34m\u001b[0m\n",
            "\u001b[0;34m\u001b[0m\u001b[0;34m\u001b[0m\n",
            "\u001b[0;34m\u001b[0m    \u001b[0;32mif\u001b[0m \u001b[0mnormalize_laughter\u001b[0m\u001b[0;34m:\u001b[0m\u001b[0;34m\u001b[0m\n",
            "\u001b[0;34m\u001b[0m        \u001b[0mlaughter_regex\u001b[0m \u001b[0;34m=\u001b[0m \u001b[0mlaughter_conf\u001b[0m\u001b[0;34m[\u001b[0m\u001b[0mlang\u001b[0m\u001b[0;34m]\u001b[0m\u001b[0;34m[\u001b[0m\u001b[0;34m\"regex\"\u001b[0m\u001b[0;34m]\u001b[0m\u001b[0;34m\u001b[0m\n",
            "\u001b[0;34m\u001b[0m        \u001b[0mreplacement\u001b[0m \u001b[0;34m=\u001b[0m \u001b[0mlaughter_conf\u001b[0m\u001b[0;34m[\u001b[0m\u001b[0mlang\u001b[0m\u001b[0;34m]\u001b[0m\u001b[0;34m[\u001b[0m\u001b[0;34m\"replacement\"\u001b[0m\u001b[0;34m]\u001b[0m\u001b[0;34m\u001b[0m\n",
            "\u001b[0;34m\u001b[0m\u001b[0;34m\u001b[0m\n",
            "\u001b[0;34m\u001b[0m        \u001b[0mtext\u001b[0m \u001b[0;34m=\u001b[0m \u001b[0mlaughter_regex\u001b[0m\u001b[0;34m.\u001b[0m\u001b[0msub\u001b[0m\u001b[0;34m(\u001b[0m\u001b[0;34m\u001b[0m\n",
            "\u001b[0;34m\u001b[0m            \u001b[0mreplacement\u001b[0m\u001b[0;34m,\u001b[0m\u001b[0;34m\u001b[0m\n",
            "\u001b[0;34m\u001b[0m            \u001b[0mtext\u001b[0m\u001b[0;34m\u001b[0m\n",
            "\u001b[0;34m\u001b[0m        \u001b[0;34m)\u001b[0m\u001b[0;34m\u001b[0m\n",
            "\u001b[0;34m\u001b[0m\u001b[0;34m\u001b[0m\n",
            "\u001b[0;34m\u001b[0m    \u001b[0;32mreturn\u001b[0m \u001b[0mtext\u001b[0m\u001b[0;34m.\u001b[0m\u001b[0mstrip\u001b[0m\u001b[0;34m(\u001b[0m\u001b[0;34m)\u001b[0m\u001b[0;34m\u001b[0m\u001b[0;34m\u001b[0m\u001b[0m\n",
            "\u001b[0;31mFile:\u001b[0m      ~/projects/pysentimiento/pysentimiento/preprocessing.py\n",
            "\u001b[0;31mType:\u001b[0m      function"
          ]
        }
      ],
      "source": [
        "preprocess_tweet??"
      ]
    }
  ],
  "metadata": {
    "colab": {
      "provenance": [],
      "include_colab_link": true
    },
    "kernelspec": {
      "display_name": "Python 3",
      "name": "python3"
    },
    "language_info": {
      "codemirror_mode": {
        "name": "ipython",
        "version": 3
      },
      "file_extension": ".py",
      "mimetype": "text/x-python",
      "name": "python",
      "nbconvert_exporter": "python",
      "pygments_lexer": "ipython3",
      "version": "3.8.16"
    },
    "widgets": {
      "application/vnd.jupyter.widget-state+json": {
        "0df8ed7666a145ac812d082482cea5d9": {
          "model_module": "@jupyter-widgets/controls",
          "model_module_version": "1.5.0",
          "model_name": "FloatProgressModel",
          "state": {
            "_dom_classes": [],
            "_model_module": "@jupyter-widgets/controls",
            "_model_module_version": "1.5.0",
            "_model_name": "FloatProgressModel",
            "_view_count": null,
            "_view_module": "@jupyter-widgets/controls",
            "_view_module_version": "1.5.0",
            "_view_name": "ProgressView",
            "bar_style": "",
            "description": "",
            "description_tooltip": null,
            "layout": "IPY_MODEL_a82e60f8b34947a096e5bd7fec5cf3d8",
            "max": 60,
            "min": 0,
            "orientation": "horizontal",
            "style": "IPY_MODEL_2651d82db0bf48838cb5f0daf341ef95",
            "value": 60
          }
        },
        "0f3d120257bc425a9813de7956b2e552": {
          "model_module": "@jupyter-widgets/controls",
          "model_module_version": "1.5.0",
          "model_name": "HTMLModel",
          "state": {
            "_dom_classes": [],
            "_model_module": "@jupyter-widgets/controls",
            "_model_module_version": "1.5.0",
            "_model_name": "HTMLModel",
            "_view_count": null,
            "_view_module": "@jupyter-widgets/controls",
            "_view_module_version": "1.5.0",
            "_view_name": "HTMLView",
            "description": "",
            "description_tooltip": null,
            "layout": "IPY_MODEL_4e612379375e433d97318c107b6b9cd9",
            "placeholder": "​",
            "style": "IPY_MODEL_71a43f492c3245529d42cba9bd4733b3",
            "value": " 60/60 [00:00&lt;00:00, 538.77 examples/s]"
          }
        },
        "18d568236ccf471fa8b893299068f5f6": {
          "model_module": "@jupyter-widgets/base",
          "model_module_version": "1.2.0",
          "model_name": "LayoutModel",
          "state": {
            "_model_module": "@jupyter-widgets/base",
            "_model_module_version": "1.2.0",
            "_model_name": "LayoutModel",
            "_view_count": null,
            "_view_module": "@jupyter-widgets/base",
            "_view_module_version": "1.2.0",
            "_view_name": "LayoutView",
            "align_content": null,
            "align_items": null,
            "align_self": null,
            "border": null,
            "bottom": null,
            "display": null,
            "flex": null,
            "flex_flow": null,
            "grid_area": null,
            "grid_auto_columns": null,
            "grid_auto_flow": null,
            "grid_auto_rows": null,
            "grid_column": null,
            "grid_gap": null,
            "grid_row": null,
            "grid_template_areas": null,
            "grid_template_columns": null,
            "grid_template_rows": null,
            "height": null,
            "justify_content": null,
            "justify_items": null,
            "left": null,
            "margin": null,
            "max_height": null,
            "max_width": null,
            "min_height": null,
            "min_width": null,
            "object_fit": null,
            "object_position": null,
            "order": null,
            "overflow": null,
            "overflow_x": null,
            "overflow_y": null,
            "padding": null,
            "right": null,
            "top": null,
            "visibility": null,
            "width": null
          }
        },
        "1fb6ef14e1c9408b8c9a79d322db0f8f": {
          "model_module": "@jupyter-widgets/controls",
          "model_module_version": "1.5.0",
          "model_name": "HTMLModel",
          "state": {
            "_dom_classes": [],
            "_model_module": "@jupyter-widgets/controls",
            "_model_module_version": "1.5.0",
            "_model_name": "HTMLModel",
            "_view_count": null,
            "_view_module": "@jupyter-widgets/controls",
            "_view_module_version": "1.5.0",
            "_view_name": "HTMLView",
            "description": "",
            "description_tooltip": null,
            "layout": "IPY_MODEL_8e7805d5970240709c2a79f4aa2948b8",
            "placeholder": "​",
            "style": "IPY_MODEL_5fcda9a4471249608fd4b379fa1decb5",
            "value": "100%"
          }
        },
        "2651d82db0bf48838cb5f0daf341ef95": {
          "model_module": "@jupyter-widgets/controls",
          "model_module_version": "1.5.0",
          "model_name": "ProgressStyleModel",
          "state": {
            "_model_module": "@jupyter-widgets/controls",
            "_model_module_version": "1.5.0",
            "_model_name": "ProgressStyleModel",
            "_view_count": null,
            "_view_module": "@jupyter-widgets/base",
            "_view_module_version": "1.2.0",
            "_view_name": "StyleView",
            "bar_color": null,
            "description_width": ""
          }
        },
        "378ba918adab481da4104f815ff0570e": {
          "model_module": "@jupyter-widgets/base",
          "model_module_version": "1.2.0",
          "model_name": "LayoutModel",
          "state": {
            "_model_module": "@jupyter-widgets/base",
            "_model_module_version": "1.2.0",
            "_model_name": "LayoutModel",
            "_view_count": null,
            "_view_module": "@jupyter-widgets/base",
            "_view_module_version": "1.2.0",
            "_view_name": "LayoutView",
            "align_content": null,
            "align_items": null,
            "align_self": null,
            "border": null,
            "bottom": null,
            "display": null,
            "flex": null,
            "flex_flow": null,
            "grid_area": null,
            "grid_auto_columns": null,
            "grid_auto_flow": null,
            "grid_auto_rows": null,
            "grid_column": null,
            "grid_gap": null,
            "grid_row": null,
            "grid_template_areas": null,
            "grid_template_columns": null,
            "grid_template_rows": null,
            "height": null,
            "justify_content": null,
            "justify_items": null,
            "left": null,
            "margin": null,
            "max_height": null,
            "max_width": null,
            "min_height": null,
            "min_width": null,
            "object_fit": null,
            "object_position": null,
            "order": null,
            "overflow": null,
            "overflow_x": null,
            "overflow_y": null,
            "padding": null,
            "right": null,
            "top": null,
            "visibility": null,
            "width": null
          }
        },
        "4723ac77d5eb4a5f8d85d3a53dfaafc4": {
          "model_module": "@jupyter-widgets/controls",
          "model_module_version": "1.5.0",
          "model_name": "DescriptionStyleModel",
          "state": {
            "_model_module": "@jupyter-widgets/controls",
            "_model_module_version": "1.5.0",
            "_model_name": "DescriptionStyleModel",
            "_view_count": null,
            "_view_module": "@jupyter-widgets/base",
            "_view_module_version": "1.2.0",
            "_view_name": "StyleView",
            "description_width": ""
          }
        },
        "4a7ddb68c80d4e3385eb7ce1a349d2f0": {
          "model_module": "@jupyter-widgets/controls",
          "model_module_version": "1.5.0",
          "model_name": "FloatProgressModel",
          "state": {
            "_dom_classes": [],
            "_model_module": "@jupyter-widgets/controls",
            "_model_module_version": "1.5.0",
            "_model_name": "FloatProgressModel",
            "_view_count": null,
            "_view_module": "@jupyter-widgets/controls",
            "_view_module_version": "1.5.0",
            "_view_name": "ProgressView",
            "bar_style": "success",
            "description": "",
            "description_tooltip": null,
            "layout": "IPY_MODEL_18d568236ccf471fa8b893299068f5f6",
            "max": 60,
            "min": 0,
            "orientation": "horizontal",
            "style": "IPY_MODEL_66e5bc3ba23e40948e6326cf0b10d7e8",
            "value": 60
          }
        },
        "4e612379375e433d97318c107b6b9cd9": {
          "model_module": "@jupyter-widgets/base",
          "model_module_version": "1.2.0",
          "model_name": "LayoutModel",
          "state": {
            "_model_module": "@jupyter-widgets/base",
            "_model_module_version": "1.2.0",
            "_model_name": "LayoutModel",
            "_view_count": null,
            "_view_module": "@jupyter-widgets/base",
            "_view_module_version": "1.2.0",
            "_view_name": "LayoutView",
            "align_content": null,
            "align_items": null,
            "align_self": null,
            "border": null,
            "bottom": null,
            "display": null,
            "flex": null,
            "flex_flow": null,
            "grid_area": null,
            "grid_auto_columns": null,
            "grid_auto_flow": null,
            "grid_auto_rows": null,
            "grid_column": null,
            "grid_gap": null,
            "grid_row": null,
            "grid_template_areas": null,
            "grid_template_columns": null,
            "grid_template_rows": null,
            "height": null,
            "justify_content": null,
            "justify_items": null,
            "left": null,
            "margin": null,
            "max_height": null,
            "max_width": null,
            "min_height": null,
            "min_width": null,
            "object_fit": null,
            "object_position": null,
            "order": null,
            "overflow": null,
            "overflow_x": null,
            "overflow_y": null,
            "padding": null,
            "right": null,
            "top": null,
            "visibility": null,
            "width": null
          }
        },
        "560f8c216e9342f39dc0868bdad55c77": {
          "model_module": "@jupyter-widgets/base",
          "model_module_version": "1.2.0",
          "model_name": "LayoutModel",
          "state": {
            "_model_module": "@jupyter-widgets/base",
            "_model_module_version": "1.2.0",
            "_model_name": "LayoutModel",
            "_view_count": null,
            "_view_module": "@jupyter-widgets/base",
            "_view_module_version": "1.2.0",
            "_view_name": "LayoutView",
            "align_content": null,
            "align_items": null,
            "align_self": null,
            "border": null,
            "bottom": null,
            "display": null,
            "flex": null,
            "flex_flow": null,
            "grid_area": null,
            "grid_auto_columns": null,
            "grid_auto_flow": null,
            "grid_auto_rows": null,
            "grid_column": null,
            "grid_gap": null,
            "grid_row": null,
            "grid_template_areas": null,
            "grid_template_columns": null,
            "grid_template_rows": null,
            "height": null,
            "justify_content": null,
            "justify_items": null,
            "left": null,
            "margin": null,
            "max_height": null,
            "max_width": null,
            "min_height": null,
            "min_width": null,
            "object_fit": null,
            "object_position": null,
            "order": null,
            "overflow": null,
            "overflow_x": null,
            "overflow_y": null,
            "padding": null,
            "right": null,
            "top": null,
            "visibility": null,
            "width": null
          }
        },
        "5dbef39335af4b0c92f1f0d14692ee1e": {
          "model_module": "@jupyter-widgets/base",
          "model_module_version": "1.2.0",
          "model_name": "LayoutModel",
          "state": {
            "_model_module": "@jupyter-widgets/base",
            "_model_module_version": "1.2.0",
            "_model_name": "LayoutModel",
            "_view_count": null,
            "_view_module": "@jupyter-widgets/base",
            "_view_module_version": "1.2.0",
            "_view_name": "LayoutView",
            "align_content": null,
            "align_items": null,
            "align_self": null,
            "border": null,
            "bottom": null,
            "display": null,
            "flex": null,
            "flex_flow": null,
            "grid_area": null,
            "grid_auto_columns": null,
            "grid_auto_flow": null,
            "grid_auto_rows": null,
            "grid_column": null,
            "grid_gap": null,
            "grid_row": null,
            "grid_template_areas": null,
            "grid_template_columns": null,
            "grid_template_rows": null,
            "height": null,
            "justify_content": null,
            "justify_items": null,
            "left": null,
            "margin": null,
            "max_height": null,
            "max_width": null,
            "min_height": null,
            "min_width": null,
            "object_fit": null,
            "object_position": null,
            "order": null,
            "overflow": null,
            "overflow_x": null,
            "overflow_y": null,
            "padding": null,
            "right": null,
            "top": null,
            "visibility": "hidden",
            "width": null
          }
        },
        "5fcda9a4471249608fd4b379fa1decb5": {
          "model_module": "@jupyter-widgets/controls",
          "model_module_version": "1.5.0",
          "model_name": "DescriptionStyleModel",
          "state": {
            "_model_module": "@jupyter-widgets/controls",
            "_model_module_version": "1.5.0",
            "_model_name": "DescriptionStyleModel",
            "_view_count": null,
            "_view_module": "@jupyter-widgets/base",
            "_view_module_version": "1.2.0",
            "_view_name": "StyleView",
            "description_width": ""
          }
        },
        "66e5bc3ba23e40948e6326cf0b10d7e8": {
          "model_module": "@jupyter-widgets/controls",
          "model_module_version": "1.5.0",
          "model_name": "ProgressStyleModel",
          "state": {
            "_model_module": "@jupyter-widgets/controls",
            "_model_module_version": "1.5.0",
            "_model_name": "ProgressStyleModel",
            "_view_count": null,
            "_view_module": "@jupyter-widgets/base",
            "_view_module_version": "1.2.0",
            "_view_name": "StyleView",
            "bar_color": null,
            "description_width": ""
          }
        },
        "71a43f492c3245529d42cba9bd4733b3": {
          "model_module": "@jupyter-widgets/controls",
          "model_module_version": "1.5.0",
          "model_name": "DescriptionStyleModel",
          "state": {
            "_model_module": "@jupyter-widgets/controls",
            "_model_module_version": "1.5.0",
            "_model_name": "DescriptionStyleModel",
            "_view_count": null,
            "_view_module": "@jupyter-widgets/base",
            "_view_module_version": "1.2.0",
            "_view_name": "StyleView",
            "description_width": ""
          }
        },
        "775981712a49475da2394bfaa01d98ac": {
          "model_module": "@jupyter-widgets/controls",
          "model_module_version": "1.5.0",
          "model_name": "HBoxModel",
          "state": {
            "_dom_classes": [],
            "_model_module": "@jupyter-widgets/controls",
            "_model_module_version": "1.5.0",
            "_model_name": "HBoxModel",
            "_view_count": null,
            "_view_module": "@jupyter-widgets/controls",
            "_view_module_version": "1.5.0",
            "_view_name": "HBoxView",
            "box_style": "",
            "children": [
              "IPY_MODEL_e720332555e44b968c68e2ec97f76540",
              "IPY_MODEL_0df8ed7666a145ac812d082482cea5d9",
              "IPY_MODEL_0f3d120257bc425a9813de7956b2e552"
            ],
            "layout": "IPY_MODEL_5dbef39335af4b0c92f1f0d14692ee1e"
          }
        },
        "8e7805d5970240709c2a79f4aa2948b8": {
          "model_module": "@jupyter-widgets/base",
          "model_module_version": "1.2.0",
          "model_name": "LayoutModel",
          "state": {
            "_model_module": "@jupyter-widgets/base",
            "_model_module_version": "1.2.0",
            "_model_name": "LayoutModel",
            "_view_count": null,
            "_view_module": "@jupyter-widgets/base",
            "_view_module_version": "1.2.0",
            "_view_name": "LayoutView",
            "align_content": null,
            "align_items": null,
            "align_self": null,
            "border": null,
            "bottom": null,
            "display": null,
            "flex": null,
            "flex_flow": null,
            "grid_area": null,
            "grid_auto_columns": null,
            "grid_auto_flow": null,
            "grid_auto_rows": null,
            "grid_column": null,
            "grid_gap": null,
            "grid_row": null,
            "grid_template_areas": null,
            "grid_template_columns": null,
            "grid_template_rows": null,
            "height": null,
            "justify_content": null,
            "justify_items": null,
            "left": null,
            "margin": null,
            "max_height": null,
            "max_width": null,
            "min_height": null,
            "min_width": null,
            "object_fit": null,
            "object_position": null,
            "order": null,
            "overflow": null,
            "overflow_x": null,
            "overflow_y": null,
            "padding": null,
            "right": null,
            "top": null,
            "visibility": null,
            "width": null
          }
        },
        "a82e60f8b34947a096e5bd7fec5cf3d8": {
          "model_module": "@jupyter-widgets/base",
          "model_module_version": "1.2.0",
          "model_name": "LayoutModel",
          "state": {
            "_model_module": "@jupyter-widgets/base",
            "_model_module_version": "1.2.0",
            "_model_name": "LayoutModel",
            "_view_count": null,
            "_view_module": "@jupyter-widgets/base",
            "_view_module_version": "1.2.0",
            "_view_name": "LayoutView",
            "align_content": null,
            "align_items": null,
            "align_self": null,
            "border": null,
            "bottom": null,
            "display": null,
            "flex": null,
            "flex_flow": null,
            "grid_area": null,
            "grid_auto_columns": null,
            "grid_auto_flow": null,
            "grid_auto_rows": null,
            "grid_column": null,
            "grid_gap": null,
            "grid_row": null,
            "grid_template_areas": null,
            "grid_template_columns": null,
            "grid_template_rows": null,
            "height": null,
            "justify_content": null,
            "justify_items": null,
            "left": null,
            "margin": null,
            "max_height": null,
            "max_width": null,
            "min_height": null,
            "min_width": null,
            "object_fit": null,
            "object_position": null,
            "order": null,
            "overflow": null,
            "overflow_x": null,
            "overflow_y": null,
            "padding": null,
            "right": null,
            "top": null,
            "visibility": null,
            "width": null
          }
        },
        "ca0dbf6bac8c4152834fe97abb672609": {
          "model_module": "@jupyter-widgets/base",
          "model_module_version": "1.2.0",
          "model_name": "LayoutModel",
          "state": {
            "_model_module": "@jupyter-widgets/base",
            "_model_module_version": "1.2.0",
            "_model_name": "LayoutModel",
            "_view_count": null,
            "_view_module": "@jupyter-widgets/base",
            "_view_module_version": "1.2.0",
            "_view_name": "LayoutView",
            "align_content": null,
            "align_items": null,
            "align_self": null,
            "border": null,
            "bottom": null,
            "display": null,
            "flex": null,
            "flex_flow": null,
            "grid_area": null,
            "grid_auto_columns": null,
            "grid_auto_flow": null,
            "grid_auto_rows": null,
            "grid_column": null,
            "grid_gap": null,
            "grid_row": null,
            "grid_template_areas": null,
            "grid_template_columns": null,
            "grid_template_rows": null,
            "height": null,
            "justify_content": null,
            "justify_items": null,
            "left": null,
            "margin": null,
            "max_height": null,
            "max_width": null,
            "min_height": null,
            "min_width": null,
            "object_fit": null,
            "object_position": null,
            "order": null,
            "overflow": null,
            "overflow_x": null,
            "overflow_y": null,
            "padding": null,
            "right": null,
            "top": null,
            "visibility": null,
            "width": null
          }
        },
        "d3098337e9ab4bc1b4893fa611a0d38a": {
          "model_module": "@jupyter-widgets/controls",
          "model_module_version": "1.5.0",
          "model_name": "HBoxModel",
          "state": {
            "_dom_classes": [],
            "_model_module": "@jupyter-widgets/controls",
            "_model_module_version": "1.5.0",
            "_model_name": "HBoxModel",
            "_view_count": null,
            "_view_module": "@jupyter-widgets/controls",
            "_view_module_version": "1.5.0",
            "_view_name": "HBoxView",
            "box_style": "",
            "children": [
              "IPY_MODEL_1fb6ef14e1c9408b8c9a79d322db0f8f",
              "IPY_MODEL_4a7ddb68c80d4e3385eb7ce1a349d2f0",
              "IPY_MODEL_d5480ca308df4dbba6837d301c2081ab"
            ],
            "layout": "IPY_MODEL_378ba918adab481da4104f815ff0570e"
          }
        },
        "d5480ca308df4dbba6837d301c2081ab": {
          "model_module": "@jupyter-widgets/controls",
          "model_module_version": "1.5.0",
          "model_name": "HTMLModel",
          "state": {
            "_dom_classes": [],
            "_model_module": "@jupyter-widgets/controls",
            "_model_module_version": "1.5.0",
            "_model_name": "HTMLModel",
            "_view_count": null,
            "_view_module": "@jupyter-widgets/controls",
            "_view_module_version": "1.5.0",
            "_view_name": "HTMLView",
            "description": "",
            "description_tooltip": null,
            "layout": "IPY_MODEL_560f8c216e9342f39dc0868bdad55c77",
            "placeholder": "​",
            "style": "IPY_MODEL_fea2605c42664ab7bb61ac72aaae9299",
            "value": " 60/60 [00:11&lt;00:00,  5.65it/s]"
          }
        },
        "e720332555e44b968c68e2ec97f76540": {
          "model_module": "@jupyter-widgets/controls",
          "model_module_version": "1.5.0",
          "model_name": "HTMLModel",
          "state": {
            "_dom_classes": [],
            "_model_module": "@jupyter-widgets/controls",
            "_model_module_version": "1.5.0",
            "_model_name": "HTMLModel",
            "_view_count": null,
            "_view_module": "@jupyter-widgets/controls",
            "_view_module_version": "1.5.0",
            "_view_name": "HTMLView",
            "description": "",
            "description_tooltip": null,
            "layout": "IPY_MODEL_ca0dbf6bac8c4152834fe97abb672609",
            "placeholder": "​",
            "style": "IPY_MODEL_4723ac77d5eb4a5f8d85d3a53dfaafc4",
            "value": "Map: 100%"
          }
        },
        "fea2605c42664ab7bb61ac72aaae9299": {
          "model_module": "@jupyter-widgets/controls",
          "model_module_version": "1.5.0",
          "model_name": "DescriptionStyleModel",
          "state": {
            "_model_module": "@jupyter-widgets/controls",
            "_model_module_version": "1.5.0",
            "_model_name": "DescriptionStyleModel",
            "_view_count": null,
            "_view_module": "@jupyter-widgets/base",
            "_view_module_version": "1.2.0",
            "_view_name": "StyleView",
            "description_width": ""
          }
        }
      }
    }
  },
  "nbformat": 4,
  "nbformat_minor": 0
}