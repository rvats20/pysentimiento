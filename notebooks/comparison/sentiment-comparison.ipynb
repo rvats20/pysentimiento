{
 "cells": [
  {
   "cell_type": "code",
   "execution_count": 1,
   "metadata": {},
   "outputs": [
    {
     "name": "stderr",
     "output_type": "stream",
     "text": [
      "2024-06-15 18:40:30,800\tINFO util.py:154 -- Outdated packages:\n",
      "  ipywidgets==7.8.1 found, needs ipywidgets>=8\n",
      "Run `pip install -U ipywidgets`, then restart the notebook server for rich notebook output.\n",
      "2024-06-15 18:40:30,953\tINFO util.py:154 -- Outdated packages:\n",
      "  ipywidgets==7.8.1 found, needs ipywidgets>=8\n",
      "Run `pip install -U ipywidgets`, then restart the notebook server for rich notebook output.\n",
      "Repo card metadata block was not found. Setting CardData to empty.\n",
      "2024-06-15 18:40:51 INFO: Checking for updates to resources.json in case models have been updated.  Note: this behavior can be turned off with download_method=None or download_method=DownloadMethod.REUSE_RESOURCES\n",
      "INFO:stanza:Checking for updates to resources.json in case models have been updated.  Note: this behavior can be turned off with download_method=None or download_method=DownloadMethod.REUSE_RESOURCES\n"
     ]
    },
    {
     "data": {
      "application/vnd.jupyter.widget-view+json": {
       "model_id": "a8d5b60f0c944ba59a76cb7ec8f2148d",
       "version_major": 2,
       "version_minor": 0
      },
      "text/plain": [
       "Downloading https://raw.githubusercontent.com/stanfordnlp/stanza-resources/main/resources_1.8.0.json:   0%|   …"
      ]
     },
     "metadata": {},
     "output_type": "display_data"
    },
    {
     "name": "stderr",
     "output_type": "stream",
     "text": [
      "2024-06-15 18:40:51 INFO: Downloaded file to /users/jmperez/stanza_resources/resources.json\n",
      "INFO:stanza:Downloaded file to /users/jmperez/stanza_resources/resources.json\n",
      "2024-06-15 18:40:51 WARNING: Language en package default expects mwt, which has been added\n",
      "WARNING:stanza:Language en package default expects mwt, which has been added\n",
      "2024-06-15 18:40:52 INFO: Loading these models for language: en (English):\n",
      "==============================\n",
      "| Processor | Package        |\n",
      "------------------------------\n",
      "| tokenize  | combined       |\n",
      "| mwt       | combined       |\n",
      "| sentiment | sstplus_charlm |\n",
      "==============================\n",
      "\n",
      "INFO:stanza:Loading these models for language: en (English):\n",
      "==============================\n",
      "| Processor | Package        |\n",
      "------------------------------\n",
      "| tokenize  | combined       |\n",
      "| mwt       | combined       |\n",
      "| sentiment | sstplus_charlm |\n",
      "==============================\n",
      "\n",
      "2024-06-15 18:40:52 INFO: Using device: cuda\n",
      "INFO:stanza:Using device: cuda\n",
      "2024-06-15 18:40:52 INFO: Loading: tokenize\n",
      "INFO:stanza:Loading: tokenize\n",
      "2024-06-15 18:40:52 INFO: Loading: mwt\n",
      "INFO:stanza:Loading: mwt\n",
      "2024-06-15 18:40:52 INFO: Loading: sentiment\n",
      "INFO:stanza:Loading: sentiment\n",
      "2024-06-15 18:40:53 INFO: Done loading processors!\n",
      "INFO:stanza:Done loading processors!\n"
     ]
    }
   ],
   "source": [
    "%load_ext autoreload\n",
    "%autoreload 2\n",
    "\n",
    "import random\n",
    "import tweetnlp\n",
    "import stanza\n",
    "from tqdm.auto import tqdm\n",
    "from pysentimiento import create_analyzer\n",
    "from textblob import TextBlob\n",
    "from datasets import load_dataset, ClassLabel\n",
    "from vaderSentiment.vaderSentiment import SentimentIntensityAnalyzer\n",
    "\n",
    "sent_eval = load_dataset(\"SetFit/SentEval-CR\")[\"test\"]\n",
    "sent_eval = sent_eval.rename_column(\"text\", \"sentence\")\n",
    "\n",
    "sent_eval = sent_eval.cast_column(\"label\", ClassLabel(2, names=[\"negative\", \"positive\"]))\n",
    "\n",
    "benchmark_datasets = [\n",
    "    (\"sst2\", load_dataset(\"stanfordnlp/sst2\")[\"validation\"]),\n",
    "    (\"financial_phrasebank\", load_dataset(\"takala/financial_phrasebank\", \"sentences_66agree\")[\"train\"]),\n",
    "    (\"SentEval-CR\", sent_eval),\n",
    "]\n",
    "\n",
    "#pysentimient + tweetnlp + stanza\n",
    "\n",
    "model = tweetnlp.load_model('sentiment')  # Or `model = tweetnlp.Sentiment()`\n",
    "nlp = stanza.Pipeline(lang='en', processors='tokenize,sentiment', tokenize_no_ssplit=True)\n",
    "vader = SentimentIntensityAnalyzer()\n",
    "\n",
    "def pysentimiento_analyzer(dataset):\n",
    "    analyzer = create_analyzer(\"sentiment\", lang=\"en\")\n",
    "    id2label = dataset.features[\"label\"].names\n",
    "\n",
    "    outs = analyzer.predict(dataset[\"sentence\"])\n",
    "\n",
    "    if len(id2label) == 2:\n",
    "        # Only positive/negative\n",
    "        return [\"negative\" if x.probas[\"NEG\"] > x.probas[\"POS\"] else \"positive\" for x in outs]\n",
    "    else:\n",
    "        translation = {\"NEU\": \"neutral\", \"POS\": \"positive\", \"NEG\": \"negative\"}\n",
    "        return [translation[x.output] for x in outs]\n",
    "\n",
    "def stanza_analyzer(dataset):\n",
    "    id2label = dataset.features[\"label\"].names\n",
    "    outs = nlp(dataset[\"sentence\"])\n",
    "\n",
    "    def _get_sentiment(x):\n",
    "        if x.sentiment == 0:\n",
    "            return \"negative\"\n",
    "        elif x.sentiment == 2:\n",
    "            return \"positive\"\n",
    "        elif len(id2label) == 2:\n",
    "            # Flip a coin\n",
    "            if random.random() > 0.5:\n",
    "                return \"positive\"\n",
    "            else:\n",
    "                return \"negative\"\n",
    "        else:\n",
    "            return \"neutral\"\n",
    "\n",
    "    return [_get_sentiment(x) for x in outs.sentences]\n",
    "\n",
    "def tweetnlp_analyzer(dataset):\n",
    "    id2label = dataset.features[\"label\"].names\n",
    "    outs = model.predict(dataset[\"sentence\"])\n",
    "    def get_tweetnlp_sentiment(x):\n",
    "        if x[\"label\"] in {\"positive\", \"negative\"}:\n",
    "            return x[\"label\"]\n",
    "        elif len(id2label) == 2:\n",
    "            # Flip a coin\n",
    "            if random.random() > 0.5:\n",
    "                return \"positive\"\n",
    "            else:\n",
    "                return \"negative\"\n",
    "        else:\n",
    "            return \"neutral\"\n",
    "\n",
    "    return [get_tweetnlp_sentiment(x) for x in outs]\n",
    "\n",
    "def textblob_analyzer(dataset, threshold=0.1):\n",
    "    id2label = dataset.features[\"label\"].names\n",
    "    outs = [TextBlob(x).sentiment.polarity for x in dataset[\"sentence\"]]\n",
    "\n",
    "    def get_textblob_sentiment(x):\n",
    "        if len(id2label) == 2:\n",
    "            if x > 0:\n",
    "                return \"positive\"\n",
    "            else:\n",
    "                return \"negative\"\n",
    "        else:\n",
    "            if x > threshold:\n",
    "                return \"positive\"\n",
    "            elif x < -threshold:\n",
    "                return \"negative\"\n",
    "            else:\n",
    "                return \"neutral\"\n",
    "\n",
    "    return [get_textblob_sentiment(x) for x in outs]\n",
    "\n",
    "def vader_analyzer(dataset):\n",
    "    id2label = dataset.features[\"label\"].names\n",
    "    outs = [vader.polarity_scores(x) for x in dataset[\"sentence\"]]\n",
    "\n",
    "    def get_vader_sentiment(x):\n",
    "        if len(id2label) == 2:\n",
    "            if x[\"pos\"] > x[\"neg\"]:\n",
    "                return \"positive\"\n",
    "            else:\n",
    "                return \"negative\"\n",
    "        else:\n",
    "            labels = [\"neg\", \"neu\", \"pos\"]\n",
    "\n",
    "            # get argmax\n",
    "            max_sent = max(range(len(labels)), key=lambda i: x[labels[i]])\n",
    "\n",
    "            return id2label[max_sent]\n",
    "    return [get_vader_sentiment(x) for x in outs]\n",
    "\n",
    "analyzers = {\n",
    "    \"pysentimiento\": pysentimiento_analyzer,\n",
    "    \"tweetnlp\": tweetnlp_analyzer,\n",
    "    \"stanza\": stanza_analyzer,\n",
    "    \"textblob\": textblob_analyzer,\n",
    "    \"vader\": vader_analyzer\n",
    "}\n"
   ]
  },
  {
   "cell_type": "code",
   "execution_count": 2,
   "metadata": {},
   "outputs": [
    {
     "data": {
      "application/vnd.jupyter.widget-view+json": {
       "model_id": "7051ccf363af42ed8bac36b0823a6d4a",
       "version_major": 2,
       "version_minor": 0
      },
      "text/plain": [
       "  0%|          | 0/3 [00:00<?, ?it/s]"
      ]
     },
     "metadata": {},
     "output_type": "display_data"
    },
    {
     "data": {
      "application/vnd.jupyter.widget-view+json": {
       "model_id": "c12ca48f8920473b99817761b7644847",
       "version_major": 2,
       "version_minor": 0
      },
      "text/plain": [
       "Map:   0%|          | 0/872 [00:00<?, ? examples/s]"
      ]
     },
     "metadata": {},
     "output_type": "display_data"
    },
    {
     "name": "stderr",
     "output_type": "stream",
     "text": [
      "The following columns in the test set don't have a corresponding argument in `RobertaForSequenceClassification.forward` and have been ignored: text. If text are not expected by `RobertaForSequenceClassification.forward`,  you can safely ignore this message.\n",
      "***** Running Prediction *****\n",
      "  Num examples = 872\n",
      "  Batch size = 32\n"
     ]
    },
    {
     "data": {
      "application/vnd.jupyter.widget-view+json": {
       "model_id": "f4fbe6a0201b4a3eb16689681b10e5fa",
       "version_major": 2,
       "version_minor": 0
      },
      "text/plain": [
       "  0%|          | 0/5 [00:00<?, ?it/s]"
      ]
     },
     "metadata": {},
     "output_type": "display_data"
    },
    {
     "name": "stdout",
     "output_type": "stream",
     "text": [
      "pysentimiento\n",
      "tweetnlp\n",
      "stanza\n",
      "textblob\n",
      "vader\n"
     ]
    },
    {
     "name": "stderr",
     "output_type": "stream",
     "text": [
      "loading configuration file https://huggingface.co/finiteautomata/bertweet-base-sentiment-analysis/resolve/main/config.json from cache at /users/jmperez/.cache/huggingface/transformers/cb09766f7ba60b5f7a1bb640617b24f1499c4a6f3ab160c4a0ac171e3a377c68.7ee19fe8f9636b36c7013d97d34dd5c9302e13db4f1f04a011fe48ac1474b216\n",
      "Model config RobertaConfig {\n",
      "  \"_name_or_path\": \"finiteautomata/bertweet-base-sentiment-analysis\",\n",
      "  \"architectures\": [\n",
      "    \"RobertaForSequenceClassification\"\n",
      "  ],\n",
      "  \"attention_probs_dropout_prob\": 0.1,\n",
      "  \"bos_token_id\": 0,\n",
      "  \"classifier_dropout\": null,\n",
      "  \"eos_token_id\": 2,\n",
      "  \"gradient_checkpointing\": false,\n",
      "  \"hidden_act\": \"gelu\",\n",
      "  \"hidden_dropout_prob\": 0.1,\n",
      "  \"hidden_size\": 768,\n",
      "  \"id2label\": {\n",
      "    \"0\": \"NEG\",\n",
      "    \"1\": \"NEU\",\n",
      "    \"2\": \"POS\"\n",
      "  },\n",
      "  \"initializer_range\": 0.02,\n",
      "  \"intermediate_size\": 3072,\n",
      "  \"label2id\": {\n",
      "    \"NEG\": 0,\n",
      "    \"NEU\": 1,\n",
      "    \"POS\": 2\n",
      "  },\n",
      "  \"layer_norm_eps\": 1e-05,\n",
      "  \"max_position_embeddings\": 130,\n",
      "  \"model_type\": \"roberta\",\n",
      "  \"num_attention_heads\": 12,\n",
      "  \"num_hidden_layers\": 12,\n",
      "  \"pad_token_id\": 1,\n",
      "  \"position_embedding_type\": \"absolute\",\n",
      "  \"problem_type\": \"single_label_classification\",\n",
      "  \"tokenizer_class\": \"BertweetTokenizer\",\n",
      "  \"torch_dtype\": \"float32\",\n",
      "  \"transformers_version\": \"4.21.2\",\n",
      "  \"type_vocab_size\": 1,\n",
      "  \"use_cache\": true,\n",
      "  \"vocab_size\": 64001\n",
      "}\n",
      "\n",
      "loading weights file https://huggingface.co/finiteautomata/bertweet-base-sentiment-analysis/resolve/main/pytorch_model.bin from cache at /users/jmperez/.cache/huggingface/transformers/2e4719cf8d097772eb75070b88cbc56f1d3b1392fffc5f75032a389ef21d1847.b25ac6ae804cc56c14a1a16da3d84c8fb47dab2026056b57badfffc7ed554817\n",
      "All model checkpoint weights were used when initializing RobertaForSequenceClassification.\n",
      "\n",
      "All the weights of RobertaForSequenceClassification were initialized from the model checkpoint at finiteautomata/bertweet-base-sentiment-analysis.\n",
      "If your task is similar to the task the model of the checkpoint was trained on, you can already use RobertaForSequenceClassification for predictions without further training.\n",
      "loading file https://huggingface.co/finiteautomata/bertweet-base-sentiment-analysis/resolve/main/vocab.txt from cache at /users/jmperez/.cache/huggingface/transformers/973dbacfdf4c488622f01d1a226089e9e3dba130a0c3c11c2e36d49466fa40a8.f8a4dfe5c3c45a26f9df849d732decb191dc0c05ab270799695430332d143982\n",
      "loading file https://huggingface.co/finiteautomata/bertweet-base-sentiment-analysis/resolve/main/bpe.codes from cache at /users/jmperez/.cache/huggingface/transformers/0e474c44ff353f3b378fb140e7e6d4431df4ec6142e8b38d584c0dbc5afc3521.75877d86011e5d5d46614d3a21757b705e9d20ed45a019805d25159b4837b0a4\n",
      "loading file https://huggingface.co/finiteautomata/bertweet-base-sentiment-analysis/resolve/main/added_tokens.json from cache at /users/jmperez/.cache/huggingface/transformers/fe46927817477a58ec2aa92ef52f8ee6fc9e824d054f4aa6a3c129724dc9c9b7.99342f91bcc91195061d858c5ed9d0f61d2a8b6d7e3ef661b2a10fcacadecace\n",
      "loading file https://huggingface.co/finiteautomata/bertweet-base-sentiment-analysis/resolve/main/special_tokens_map.json from cache at /users/jmperez/.cache/huggingface/transformers/9413ac0bed76140860deffa0c5a29ee4da7d49a3810da1b4b51b27f790bc9255.adf9ca26cf9cb894c06d81ab14f4ad5657962a0f38dbf8000649a29331641b87\n",
      "loading file https://huggingface.co/finiteautomata/bertweet-base-sentiment-analysis/resolve/main/tokenizer_config.json from cache at /users/jmperez/.cache/huggingface/transformers/61374b71c02fdfd2929a3cdce24c242049e036624e15e18461a3a70cfc35e939.1b1116b508debe8249fd2fba56ea9d54773552608ba16dc8f1ae2676e1073a18\n",
      "Adding <mask> to the vocabulary\n",
      "PyTorch: setting up devices\n",
      "The default value for the training argument `--report_to` will change in v5 (from all installed integrations to none). In v5, you will need to use `--report_to all` to get the same behavior as now. You should start updating your code and make this info disappear :-).\n"
     ]
    },
    {
     "data": {
      "application/vnd.jupyter.widget-view+json": {
       "model_id": "c85c7700ebdf420bbc38f547a8a89a10",
       "version_major": 2,
       "version_minor": 0
      },
      "text/plain": [
       "Map:   0%|          | 0/4217 [00:00<?, ? examples/s]"
      ]
     },
     "metadata": {},
     "output_type": "display_data"
    },
    {
     "name": "stderr",
     "output_type": "stream",
     "text": [
      "The following columns in the test set don't have a corresponding argument in `RobertaForSequenceClassification.forward` and have been ignored: text. If text are not expected by `RobertaForSequenceClassification.forward`,  you can safely ignore this message.\n",
      "***** Running Prediction *****\n",
      "  Num examples = 4217\n",
      "  Batch size = 32\n"
     ]
    },
    {
     "data": {
      "text/html": [],
      "text/plain": [
       "<IPython.core.display.HTML object>"
      ]
     },
     "metadata": {},
     "output_type": "display_data"
    },
    {
     "data": {
      "application/vnd.jupyter.widget-view+json": {
       "model_id": "810aed530cdd4fa0868d56558d630582",
       "version_major": 2,
       "version_minor": 0
      },
      "text/plain": [
       "  0%|          | 0/5 [00:00<?, ?it/s]"
      ]
     },
     "metadata": {},
     "output_type": "display_data"
    },
    {
     "name": "stdout",
     "output_type": "stream",
     "text": [
      "pysentimiento\n",
      "tweetnlp\n",
      "stanza\n",
      "textblob\n",
      "vader\n"
     ]
    },
    {
     "name": "stderr",
     "output_type": "stream",
     "text": [
      "/users/jmperez/projects/pysentimiento/.venv/lib/python3.8/site-packages/sklearn/metrics/_classification.py:1471: UndefinedMetricWarning: Precision and F-score are ill-defined and being set to 0.0 in labels with no predicted samples. Use `zero_division` parameter to control this behavior.\n",
      "  _warn_prf(average, modifier, msg_start, len(result))\n",
      "/users/jmperez/projects/pysentimiento/.venv/lib/python3.8/site-packages/sklearn/metrics/_classification.py:1471: UndefinedMetricWarning: Precision and F-score are ill-defined and being set to 0.0 in labels with no predicted samples. Use `zero_division` parameter to control this behavior.\n",
      "  _warn_prf(average, modifier, msg_start, len(result))\n",
      "/users/jmperez/projects/pysentimiento/.venv/lib/python3.8/site-packages/sklearn/metrics/_classification.py:1471: UndefinedMetricWarning: Precision and F-score are ill-defined and being set to 0.0 in labels with no predicted samples. Use `zero_division` parameter to control this behavior.\n",
      "  _warn_prf(average, modifier, msg_start, len(result))\n",
      "loading configuration file https://huggingface.co/finiteautomata/bertweet-base-sentiment-analysis/resolve/main/config.json from cache at /users/jmperez/.cache/huggingface/transformers/cb09766f7ba60b5f7a1bb640617b24f1499c4a6f3ab160c4a0ac171e3a377c68.7ee19fe8f9636b36c7013d97d34dd5c9302e13db4f1f04a011fe48ac1474b216\n",
      "Model config RobertaConfig {\n",
      "  \"_name_or_path\": \"finiteautomata/bertweet-base-sentiment-analysis\",\n",
      "  \"architectures\": [\n",
      "    \"RobertaForSequenceClassification\"\n",
      "  ],\n",
      "  \"attention_probs_dropout_prob\": 0.1,\n",
      "  \"bos_token_id\": 0,\n",
      "  \"classifier_dropout\": null,\n",
      "  \"eos_token_id\": 2,\n",
      "  \"gradient_checkpointing\": false,\n",
      "  \"hidden_act\": \"gelu\",\n",
      "  \"hidden_dropout_prob\": 0.1,\n",
      "  \"hidden_size\": 768,\n",
      "  \"id2label\": {\n",
      "    \"0\": \"NEG\",\n",
      "    \"1\": \"NEU\",\n",
      "    \"2\": \"POS\"\n",
      "  },\n",
      "  \"initializer_range\": 0.02,\n",
      "  \"intermediate_size\": 3072,\n",
      "  \"label2id\": {\n",
      "    \"NEG\": 0,\n",
      "    \"NEU\": 1,\n",
      "    \"POS\": 2\n",
      "  },\n",
      "  \"layer_norm_eps\": 1e-05,\n",
      "  \"max_position_embeddings\": 130,\n",
      "  \"model_type\": \"roberta\",\n",
      "  \"num_attention_heads\": 12,\n",
      "  \"num_hidden_layers\": 12,\n",
      "  \"pad_token_id\": 1,\n",
      "  \"position_embedding_type\": \"absolute\",\n",
      "  \"problem_type\": \"single_label_classification\",\n",
      "  \"tokenizer_class\": \"BertweetTokenizer\",\n",
      "  \"torch_dtype\": \"float32\",\n",
      "  \"transformers_version\": \"4.21.2\",\n",
      "  \"type_vocab_size\": 1,\n",
      "  \"use_cache\": true,\n",
      "  \"vocab_size\": 64001\n",
      "}\n",
      "\n",
      "loading weights file https://huggingface.co/finiteautomata/bertweet-base-sentiment-analysis/resolve/main/pytorch_model.bin from cache at /users/jmperez/.cache/huggingface/transformers/2e4719cf8d097772eb75070b88cbc56f1d3b1392fffc5f75032a389ef21d1847.b25ac6ae804cc56c14a1a16da3d84c8fb47dab2026056b57badfffc7ed554817\n",
      "All model checkpoint weights were used when initializing RobertaForSequenceClassification.\n",
      "\n",
      "All the weights of RobertaForSequenceClassification were initialized from the model checkpoint at finiteautomata/bertweet-base-sentiment-analysis.\n",
      "If your task is similar to the task the model of the checkpoint was trained on, you can already use RobertaForSequenceClassification for predictions without further training.\n",
      "loading file https://huggingface.co/finiteautomata/bertweet-base-sentiment-analysis/resolve/main/vocab.txt from cache at /users/jmperez/.cache/huggingface/transformers/973dbacfdf4c488622f01d1a226089e9e3dba130a0c3c11c2e36d49466fa40a8.f8a4dfe5c3c45a26f9df849d732decb191dc0c05ab270799695430332d143982\n",
      "loading file https://huggingface.co/finiteautomata/bertweet-base-sentiment-analysis/resolve/main/bpe.codes from cache at /users/jmperez/.cache/huggingface/transformers/0e474c44ff353f3b378fb140e7e6d4431df4ec6142e8b38d584c0dbc5afc3521.75877d86011e5d5d46614d3a21757b705e9d20ed45a019805d25159b4837b0a4\n",
      "loading file https://huggingface.co/finiteautomata/bertweet-base-sentiment-analysis/resolve/main/added_tokens.json from cache at /users/jmperez/.cache/huggingface/transformers/fe46927817477a58ec2aa92ef52f8ee6fc9e824d054f4aa6a3c129724dc9c9b7.99342f91bcc91195061d858c5ed9d0f61d2a8b6d7e3ef661b2a10fcacadecace\n",
      "loading file https://huggingface.co/finiteautomata/bertweet-base-sentiment-analysis/resolve/main/special_tokens_map.json from cache at /users/jmperez/.cache/huggingface/transformers/9413ac0bed76140860deffa0c5a29ee4da7d49a3810da1b4b51b27f790bc9255.adf9ca26cf9cb894c06d81ab14f4ad5657962a0f38dbf8000649a29331641b87\n",
      "loading file https://huggingface.co/finiteautomata/bertweet-base-sentiment-analysis/resolve/main/tokenizer_config.json from cache at /users/jmperez/.cache/huggingface/transformers/61374b71c02fdfd2929a3cdce24c242049e036624e15e18461a3a70cfc35e939.1b1116b508debe8249fd2fba56ea9d54773552608ba16dc8f1ae2676e1073a18\n",
      "Adding <mask> to the vocabulary\n",
      "PyTorch: setting up devices\n",
      "The default value for the training argument `--report_to` will change in v5 (from all installed integrations to none). In v5, you will need to use `--report_to all` to get the same behavior as now. You should start updating your code and make this info disappear :-).\n"
     ]
    },
    {
     "data": {
      "application/vnd.jupyter.widget-view+json": {
       "model_id": "3be8ae1b07ae40cfafd8f0a19edb68fa",
       "version_major": 2,
       "version_minor": 0
      },
      "text/plain": [
       "Map:   0%|          | 0/753 [00:00<?, ? examples/s]"
      ]
     },
     "metadata": {},
     "output_type": "display_data"
    },
    {
     "name": "stderr",
     "output_type": "stream",
     "text": [
      "The following columns in the test set don't have a corresponding argument in `RobertaForSequenceClassification.forward` and have been ignored: text. If text are not expected by `RobertaForSequenceClassification.forward`,  you can safely ignore this message.\n",
      "***** Running Prediction *****\n",
      "  Num examples = 753\n",
      "  Batch size = 32\n"
     ]
    },
    {
     "data": {
      "text/html": [],
      "text/plain": [
       "<IPython.core.display.HTML object>"
      ]
     },
     "metadata": {},
     "output_type": "display_data"
    },
    {
     "data": {
      "application/vnd.jupyter.widget-view+json": {
       "model_id": "7e6280aa14e3413b9f5fecad489783af",
       "version_major": 2,
       "version_minor": 0
      },
      "text/plain": [
       "  0%|          | 0/5 [00:00<?, ?it/s]"
      ]
     },
     "metadata": {},
     "output_type": "display_data"
    },
    {
     "name": "stdout",
     "output_type": "stream",
     "text": [
      "pysentimiento\n",
      "tweetnlp\n",
      "stanza\n",
      "textblob\n",
      "vader\n"
     ]
    }
   ],
   "source": [
    "from sklearn.metrics import classification_report\n",
    "\n",
    "results = []\n",
    "\n",
    "for ds_name, dataset in tqdm(benchmark_datasets):\n",
    "    preds = {\n",
    "        k: analyzer(dataset) for k, analyzer in analyzers.items()\n",
    "    }\n",
    "    id2label = dataset.features[\"label\"].names\n",
    "    label2id = {v: k for k, v in enumerate(id2label)}\n",
    "\n",
    "\n",
    "    for name, pred in tqdm(list(preds.items())):\n",
    "        print(name)\n",
    "        true_labels = dataset[\"label\"]\n",
    "        pred_labels = [label2id[x] for x in pred]\n",
    "\n",
    "        ret = classification_report(true_labels, pred_labels, target_names=id2label, output_dict=True)\n",
    "\n",
    "        res = {\n",
    "            \"Model\": name,\n",
    "            \"Dataset\": ds_name,\n",
    "            \"Macro F1\": ret[\"macro avg\"][\"f1-score\"],\n",
    "            \"Macro Precision\": ret[\"macro avg\"][\"precision\"],\n",
    "            \"Macro Recall\": ret[\"macro avg\"][\"recall\"],\n",
    "        }\n",
    "\n",
    "        results.append(res)\n"
   ]
  },
  {
   "cell_type": "code",
   "execution_count": 3,
   "metadata": {},
   "outputs": [
    {
     "data": {
      "text/plain": [
       "ClassLabel(names=['negative', 'positive'], id=None)"
      ]
     },
     "execution_count": 3,
     "metadata": {},
     "output_type": "execute_result"
    }
   ],
   "source": [
    "benchmark_datasets[-1][-1].features[\"label\"]"
   ]
  },
  {
   "cell_type": "code",
   "execution_count": 4,
   "metadata": {},
   "outputs": [
    {
     "data": {
      "text/html": [
       "<div>\n",
       "<style scoped>\n",
       "    .dataframe tbody tr th:only-of-type {\n",
       "        vertical-align: middle;\n",
       "    }\n",
       "\n",
       "    .dataframe tbody tr th {\n",
       "        vertical-align: top;\n",
       "    }\n",
       "\n",
       "    .dataframe thead th {\n",
       "        text-align: right;\n",
       "    }\n",
       "</style>\n",
       "<table border=\"1\" class=\"dataframe\">\n",
       "  <thead>\n",
       "    <tr style=\"text-align: right;\">\n",
       "      <th></th>\n",
       "      <th></th>\n",
       "      <th>Macro Precision</th>\n",
       "      <th>Macro Recall</th>\n",
       "      <th>Macro F1</th>\n",
       "    </tr>\n",
       "    <tr>\n",
       "      <th>Dataset</th>\n",
       "      <th>Model</th>\n",
       "      <th></th>\n",
       "      <th></th>\n",
       "      <th></th>\n",
       "    </tr>\n",
       "  </thead>\n",
       "  <tbody>\n",
       "    <tr>\n",
       "      <th rowspan=\"5\" valign=\"top\">sst2</th>\n",
       "      <th>pysentimiento</th>\n",
       "      <td>87.99</td>\n",
       "      <td>87.93</td>\n",
       "      <td>87.95</td>\n",
       "    </tr>\n",
       "    <tr>\n",
       "      <th>tweetnlp</th>\n",
       "      <td>81.36</td>\n",
       "      <td>81.26</td>\n",
       "      <td>81.18</td>\n",
       "    </tr>\n",
       "    <tr>\n",
       "      <th>stanza</th>\n",
       "      <td>83.86</td>\n",
       "      <td>83.80</td>\n",
       "      <td>83.81</td>\n",
       "    </tr>\n",
       "    <tr>\n",
       "      <th>textblob</th>\n",
       "      <td>66.50</td>\n",
       "      <td>66.02</td>\n",
       "      <td>65.86</td>\n",
       "    </tr>\n",
       "    <tr>\n",
       "      <th>vader</th>\n",
       "      <td>67.17</td>\n",
       "      <td>66.85</td>\n",
       "      <td>66.77</td>\n",
       "    </tr>\n",
       "    <tr>\n",
       "      <th rowspan=\"5\" valign=\"top\">financial_phrasebank</th>\n",
       "      <th>pysentimiento</th>\n",
       "      <td>75.04</td>\n",
       "      <td>64.52</td>\n",
       "      <td>68.24</td>\n",
       "    </tr>\n",
       "    <tr>\n",
       "      <th>tweetnlp</th>\n",
       "      <td>73.21</td>\n",
       "      <td>54.83</td>\n",
       "      <td>58.83</td>\n",
       "    </tr>\n",
       "    <tr>\n",
       "      <th>stanza</th>\n",
       "      <td>46.33</td>\n",
       "      <td>44.41</td>\n",
       "      <td>44.15</td>\n",
       "    </tr>\n",
       "    <tr>\n",
       "      <th>textblob</th>\n",
       "      <td>46.69</td>\n",
       "      <td>43.97</td>\n",
       "      <td>44.85</td>\n",
       "    </tr>\n",
       "    <tr>\n",
       "      <th>vader</th>\n",
       "      <td>33.37</td>\n",
       "      <td>33.35</td>\n",
       "      <td>25.13</td>\n",
       "    </tr>\n",
       "    <tr>\n",
       "      <th rowspan=\"5\" valign=\"top\">SentEval-CR</th>\n",
       "      <th>pysentimiento</th>\n",
       "      <td>88.76</td>\n",
       "      <td>87.97</td>\n",
       "      <td>88.33</td>\n",
       "    </tr>\n",
       "    <tr>\n",
       "      <th>tweetnlp</th>\n",
       "      <td>83.66</td>\n",
       "      <td>84.71</td>\n",
       "      <td>84.06</td>\n",
       "    </tr>\n",
       "    <tr>\n",
       "      <th>stanza</th>\n",
       "      <td>77.05</td>\n",
       "      <td>78.53</td>\n",
       "      <td>77.24</td>\n",
       "    </tr>\n",
       "    <tr>\n",
       "      <th>textblob</th>\n",
       "      <td>67.85</td>\n",
       "      <td>67.80</td>\n",
       "      <td>67.82</td>\n",
       "    </tr>\n",
       "    <tr>\n",
       "      <th>vader</th>\n",
       "      <td>72.77</td>\n",
       "      <td>73.27</td>\n",
       "      <td>72.97</td>\n",
       "    </tr>\n",
       "  </tbody>\n",
       "</table>\n",
       "</div>"
      ],
      "text/plain": [
       "                                    Macro Precision  Macro Recall  Macro F1\n",
       "Dataset              Model                                                 \n",
       "sst2                 pysentimiento            87.99         87.93     87.95\n",
       "                     tweetnlp                 81.36         81.26     81.18\n",
       "                     stanza                   83.86         83.80     83.81\n",
       "                     textblob                 66.50         66.02     65.86\n",
       "                     vader                    67.17         66.85     66.77\n",
       "financial_phrasebank pysentimiento            75.04         64.52     68.24\n",
       "                     tweetnlp                 73.21         54.83     58.83\n",
       "                     stanza                   46.33         44.41     44.15\n",
       "                     textblob                 46.69         43.97     44.85\n",
       "                     vader                    33.37         33.35     25.13\n",
       "SentEval-CR          pysentimiento            88.76         87.97     88.33\n",
       "                     tweetnlp                 83.66         84.71     84.06\n",
       "                     stanza                   77.05         78.53     77.24\n",
       "                     textblob                 67.85         67.80     67.82\n",
       "                     vader                    72.77         73.27     72.97"
      ]
     },
     "execution_count": 4,
     "metadata": {},
     "output_type": "execute_result"
    }
   ],
   "source": [
    "import pandas as pd\n",
    "\n",
    "df = pd.DataFrame(results)\n",
    "\n",
    "(df.set_index([\"Dataset\", \"Model\"]) * 100).round(2)[[\"Macro Precision\", \"Macro Recall\", \"Macro F1\"]]"
   ]
  }
 ],
 "metadata": {
  "kernelspec": {
   "display_name": ".venv",
   "language": "python",
   "name": "python3"
  },
  "language_info": {
   "codemirror_mode": {
    "name": "ipython",
    "version": 3
   },
   "file_extension": ".py",
   "mimetype": "text/x-python",
   "name": "python",
   "nbconvert_exporter": "python",
   "pygments_lexer": "ipython3",
   "version": "3.8.16"
  }
 },
 "nbformat": 4,
 "nbformat_minor": 2
}
